{
  "cells": [
    {
      "cell_type": "code",
      "execution_count": 39,
      "metadata": {
        "colab": {
          "base_uri": "https://localhost:8080/"
        },
        "id": "dJ12k9hPcNAg",
        "outputId": "bc43564c-5c8b-4e17-afa3-5d1266d04039"
      },
      "outputs": [
        {
          "output_type": "stream",
          "name": "stdout",
          "text": [
            "Requirement already satisfied: pyspark in /usr/local/lib/python3.10/dist-packages (3.5.3)\n",
            "Requirement already satisfied: py4j==0.10.9.7 in /usr/local/lib/python3.10/dist-packages (from pyspark) (0.10.9.7)\n",
            "Warning: Looks like you're using an outdated `kagglehub` version, please consider updating (latest version: 0.3.3)\n",
            "Path to dataset files: /root/.cache/kagglehub/datasets/christofferms/pokemon-with-stats-and-image/versions/1\n",
            "Warning: Looks like you're using an outdated `kagglehub` version, please consider updating (latest version: 0.3.3)\n",
            "Downloading from https://www.kaggle.com/api/v1/datasets/download/satvshr/top-4-used-car-sales-datasets-combined?dataset_version_number=2...\n"
          ]
        },
        {
          "output_type": "stream",
          "name": "stderr",
          "text": [
            "100%|██████████| 446k/446k [00:00<00:00, 62.2MB/s]"
          ]
        },
        {
          "output_type": "stream",
          "name": "stdout",
          "text": [
            "Extracting files...\n",
            "Path to dataset files: /root/.cache/kagglehub/datasets/satvshr/top-4-used-car-sales-datasets-combined/versions/2\n"
          ]
        },
        {
          "output_type": "stream",
          "name": "stderr",
          "text": [
            "\n"
          ]
        }
      ],
      "source": [
        "!pip install pyspark\n",
        "\n",
        "import kagglehub\n",
        "\n",
        "# Download latest version\n",
        "import kagglehub\n",
        "\n",
        "# Download latest version\n",
        "path = kagglehub.dataset_download(\"christofferms/pokemon-with-stats-and-image\")\n",
        "\n",
        "print(\"Path to dataset files:\", path)\n",
        "\n",
        "path = kagglehub.dataset_download(\"satvshr/top-4-used-car-sales-datasets-combined\")\n",
        "\n",
        "print(\"Path to dataset files:\", path)\n"
      ]
    },
    {
      "cell_type": "code",
      "source": [
        "# Iniciar uma Sessão Spark\n",
        "from pyspark.sql import SparkSession\n",
        "\n",
        "spark = SparkSession.builder \\\n",
        "    .appName(\"ExemploPySpark\") \\\n",
        "    .getOrCreate()"
      ],
      "metadata": {
        "id": "Qul_MH_FQ8Zi"
      },
      "execution_count": 15,
      "outputs": []
    },
    {
      "cell_type": "code",
      "source": [
        "# Imports\n",
        "import pandas as pd\n",
        "# Read the data with pandas\n",
        "df_pandas = pd.read_csv(\"/root/.cache/kagglehub/datasets/christofferms/pokemon-with-stats-and-image/versions/1/pokedex.csv\")\n",
        "df_pandas.head(4)"
      ],
      "metadata": {
        "colab": {
          "base_uri": "https://localhost:8080/",
          "height": 175
        },
        "id": "OhhiCZs8ONk7",
        "outputId": "5aa18b12-3187-4f4b-dbe7-b7927221b106"
      },
      "execution_count": 21,
      "outputs": [
        {
          "output_type": "execute_result",
          "data": {
            "text/plain": [
              "          Image  Index                    Name Type 1  Type 2  Total  HP  \\\n",
              "0  images/1.png      1               Bulbasaur  Grass  Poison    318  45   \n",
              "1  images/2.png      2                 Ivysaur  Grass  Poison    405  60   \n",
              "2  images/3.png      3                Venusaur  Grass  Poison    525  80   \n",
              "3  images/4.png      3  Venusaur Mega Venusaur  Grass  Poison    625  80   \n",
              "\n",
              "   Attack  Defense  SP. Atk.  SP. Def  Speed  \n",
              "0      49       49        65       65     45  \n",
              "1      62       63        80       80     60  \n",
              "2      82       83       100      100     80  \n",
              "3     100      123       122      120     80  "
            ],
            "text/html": [
              "\n",
              "  <div id=\"df-06b31f94-f641-4962-9f13-38b0a09029fb\" class=\"colab-df-container\">\n",
              "    <div>\n",
              "<style scoped>\n",
              "    .dataframe tbody tr th:only-of-type {\n",
              "        vertical-align: middle;\n",
              "    }\n",
              "\n",
              "    .dataframe tbody tr th {\n",
              "        vertical-align: top;\n",
              "    }\n",
              "\n",
              "    .dataframe thead th {\n",
              "        text-align: right;\n",
              "    }\n",
              "</style>\n",
              "<table border=\"1\" class=\"dataframe\">\n",
              "  <thead>\n",
              "    <tr style=\"text-align: right;\">\n",
              "      <th></th>\n",
              "      <th>Image</th>\n",
              "      <th>Index</th>\n",
              "      <th>Name</th>\n",
              "      <th>Type 1</th>\n",
              "      <th>Type 2</th>\n",
              "      <th>Total</th>\n",
              "      <th>HP</th>\n",
              "      <th>Attack</th>\n",
              "      <th>Defense</th>\n",
              "      <th>SP. Atk.</th>\n",
              "      <th>SP. Def</th>\n",
              "      <th>Speed</th>\n",
              "    </tr>\n",
              "  </thead>\n",
              "  <tbody>\n",
              "    <tr>\n",
              "      <th>0</th>\n",
              "      <td>images/1.png</td>\n",
              "      <td>1</td>\n",
              "      <td>Bulbasaur</td>\n",
              "      <td>Grass</td>\n",
              "      <td>Poison</td>\n",
              "      <td>318</td>\n",
              "      <td>45</td>\n",
              "      <td>49</td>\n",
              "      <td>49</td>\n",
              "      <td>65</td>\n",
              "      <td>65</td>\n",
              "      <td>45</td>\n",
              "    </tr>\n",
              "    <tr>\n",
              "      <th>1</th>\n",
              "      <td>images/2.png</td>\n",
              "      <td>2</td>\n",
              "      <td>Ivysaur</td>\n",
              "      <td>Grass</td>\n",
              "      <td>Poison</td>\n",
              "      <td>405</td>\n",
              "      <td>60</td>\n",
              "      <td>62</td>\n",
              "      <td>63</td>\n",
              "      <td>80</td>\n",
              "      <td>80</td>\n",
              "      <td>60</td>\n",
              "    </tr>\n",
              "    <tr>\n",
              "      <th>2</th>\n",
              "      <td>images/3.png</td>\n",
              "      <td>3</td>\n",
              "      <td>Venusaur</td>\n",
              "      <td>Grass</td>\n",
              "      <td>Poison</td>\n",
              "      <td>525</td>\n",
              "      <td>80</td>\n",
              "      <td>82</td>\n",
              "      <td>83</td>\n",
              "      <td>100</td>\n",
              "      <td>100</td>\n",
              "      <td>80</td>\n",
              "    </tr>\n",
              "    <tr>\n",
              "      <th>3</th>\n",
              "      <td>images/4.png</td>\n",
              "      <td>3</td>\n",
              "      <td>Venusaur Mega Venusaur</td>\n",
              "      <td>Grass</td>\n",
              "      <td>Poison</td>\n",
              "      <td>625</td>\n",
              "      <td>80</td>\n",
              "      <td>100</td>\n",
              "      <td>123</td>\n",
              "      <td>122</td>\n",
              "      <td>120</td>\n",
              "      <td>80</td>\n",
              "    </tr>\n",
              "  </tbody>\n",
              "</table>\n",
              "</div>\n",
              "    <div class=\"colab-df-buttons\">\n",
              "\n",
              "  <div class=\"colab-df-container\">\n",
              "    <button class=\"colab-df-convert\" onclick=\"convertToInteractive('df-06b31f94-f641-4962-9f13-38b0a09029fb')\"\n",
              "            title=\"Convert this dataframe to an interactive table.\"\n",
              "            style=\"display:none;\">\n",
              "\n",
              "  <svg xmlns=\"http://www.w3.org/2000/svg\" height=\"24px\" viewBox=\"0 -960 960 960\">\n",
              "    <path d=\"M120-120v-720h720v720H120Zm60-500h600v-160H180v160Zm220 220h160v-160H400v160Zm0 220h160v-160H400v160ZM180-400h160v-160H180v160Zm440 0h160v-160H620v160ZM180-180h160v-160H180v160Zm440 0h160v-160H620v160Z\"/>\n",
              "  </svg>\n",
              "    </button>\n",
              "\n",
              "  <style>\n",
              "    .colab-df-container {\n",
              "      display:flex;\n",
              "      gap: 12px;\n",
              "    }\n",
              "\n",
              "    .colab-df-convert {\n",
              "      background-color: #E8F0FE;\n",
              "      border: none;\n",
              "      border-radius: 50%;\n",
              "      cursor: pointer;\n",
              "      display: none;\n",
              "      fill: #1967D2;\n",
              "      height: 32px;\n",
              "      padding: 0 0 0 0;\n",
              "      width: 32px;\n",
              "    }\n",
              "\n",
              "    .colab-df-convert:hover {\n",
              "      background-color: #E2EBFA;\n",
              "      box-shadow: 0px 1px 2px rgba(60, 64, 67, 0.3), 0px 1px 3px 1px rgba(60, 64, 67, 0.15);\n",
              "      fill: #174EA6;\n",
              "    }\n",
              "\n",
              "    .colab-df-buttons div {\n",
              "      margin-bottom: 4px;\n",
              "    }\n",
              "\n",
              "    [theme=dark] .colab-df-convert {\n",
              "      background-color: #3B4455;\n",
              "      fill: #D2E3FC;\n",
              "    }\n",
              "\n",
              "    [theme=dark] .colab-df-convert:hover {\n",
              "      background-color: #434B5C;\n",
              "      box-shadow: 0px 1px 3px 1px rgba(0, 0, 0, 0.15);\n",
              "      filter: drop-shadow(0px 1px 2px rgba(0, 0, 0, 0.3));\n",
              "      fill: #FFFFFF;\n",
              "    }\n",
              "  </style>\n",
              "\n",
              "    <script>\n",
              "      const buttonEl =\n",
              "        document.querySelector('#df-06b31f94-f641-4962-9f13-38b0a09029fb button.colab-df-convert');\n",
              "      buttonEl.style.display =\n",
              "        google.colab.kernel.accessAllowed ? 'block' : 'none';\n",
              "\n",
              "      async function convertToInteractive(key) {\n",
              "        const element = document.querySelector('#df-06b31f94-f641-4962-9f13-38b0a09029fb');\n",
              "        const dataTable =\n",
              "          await google.colab.kernel.invokeFunction('convertToInteractive',\n",
              "                                                    [key], {});\n",
              "        if (!dataTable) return;\n",
              "\n",
              "        const docLinkHtml = 'Like what you see? Visit the ' +\n",
              "          '<a target=\"_blank\" href=https://colab.research.google.com/notebooks/data_table.ipynb>data table notebook</a>'\n",
              "          + ' to learn more about interactive tables.';\n",
              "        element.innerHTML = '';\n",
              "        dataTable['output_type'] = 'display_data';\n",
              "        await google.colab.output.renderOutput(dataTable, element);\n",
              "        const docLink = document.createElement('div');\n",
              "        docLink.innerHTML = docLinkHtml;\n",
              "        element.appendChild(docLink);\n",
              "      }\n",
              "    </script>\n",
              "  </div>\n",
              "\n",
              "\n",
              "<div id=\"df-71d662a7-f337-4431-b7d7-6a8e88fe5c97\">\n",
              "  <button class=\"colab-df-quickchart\" onclick=\"quickchart('df-71d662a7-f337-4431-b7d7-6a8e88fe5c97')\"\n",
              "            title=\"Suggest charts\"\n",
              "            style=\"display:none;\">\n",
              "\n",
              "<svg xmlns=\"http://www.w3.org/2000/svg\" height=\"24px\"viewBox=\"0 0 24 24\"\n",
              "     width=\"24px\">\n",
              "    <g>\n",
              "        <path d=\"M19 3H5c-1.1 0-2 .9-2 2v14c0 1.1.9 2 2 2h14c1.1 0 2-.9 2-2V5c0-1.1-.9-2-2-2zM9 17H7v-7h2v7zm4 0h-2V7h2v10zm4 0h-2v-4h2v4z\"/>\n",
              "    </g>\n",
              "</svg>\n",
              "  </button>\n",
              "\n",
              "<style>\n",
              "  .colab-df-quickchart {\n",
              "      --bg-color: #E8F0FE;\n",
              "      --fill-color: #1967D2;\n",
              "      --hover-bg-color: #E2EBFA;\n",
              "      --hover-fill-color: #174EA6;\n",
              "      --disabled-fill-color: #AAA;\n",
              "      --disabled-bg-color: #DDD;\n",
              "  }\n",
              "\n",
              "  [theme=dark] .colab-df-quickchart {\n",
              "      --bg-color: #3B4455;\n",
              "      --fill-color: #D2E3FC;\n",
              "      --hover-bg-color: #434B5C;\n",
              "      --hover-fill-color: #FFFFFF;\n",
              "      --disabled-bg-color: #3B4455;\n",
              "      --disabled-fill-color: #666;\n",
              "  }\n",
              "\n",
              "  .colab-df-quickchart {\n",
              "    background-color: var(--bg-color);\n",
              "    border: none;\n",
              "    border-radius: 50%;\n",
              "    cursor: pointer;\n",
              "    display: none;\n",
              "    fill: var(--fill-color);\n",
              "    height: 32px;\n",
              "    padding: 0;\n",
              "    width: 32px;\n",
              "  }\n",
              "\n",
              "  .colab-df-quickchart:hover {\n",
              "    background-color: var(--hover-bg-color);\n",
              "    box-shadow: 0 1px 2px rgba(60, 64, 67, 0.3), 0 1px 3px 1px rgba(60, 64, 67, 0.15);\n",
              "    fill: var(--button-hover-fill-color);\n",
              "  }\n",
              "\n",
              "  .colab-df-quickchart-complete:disabled,\n",
              "  .colab-df-quickchart-complete:disabled:hover {\n",
              "    background-color: var(--disabled-bg-color);\n",
              "    fill: var(--disabled-fill-color);\n",
              "    box-shadow: none;\n",
              "  }\n",
              "\n",
              "  .colab-df-spinner {\n",
              "    border: 2px solid var(--fill-color);\n",
              "    border-color: transparent;\n",
              "    border-bottom-color: var(--fill-color);\n",
              "    animation:\n",
              "      spin 1s steps(1) infinite;\n",
              "  }\n",
              "\n",
              "  @keyframes spin {\n",
              "    0% {\n",
              "      border-color: transparent;\n",
              "      border-bottom-color: var(--fill-color);\n",
              "      border-left-color: var(--fill-color);\n",
              "    }\n",
              "    20% {\n",
              "      border-color: transparent;\n",
              "      border-left-color: var(--fill-color);\n",
              "      border-top-color: var(--fill-color);\n",
              "    }\n",
              "    30% {\n",
              "      border-color: transparent;\n",
              "      border-left-color: var(--fill-color);\n",
              "      border-top-color: var(--fill-color);\n",
              "      border-right-color: var(--fill-color);\n",
              "    }\n",
              "    40% {\n",
              "      border-color: transparent;\n",
              "      border-right-color: var(--fill-color);\n",
              "      border-top-color: var(--fill-color);\n",
              "    }\n",
              "    60% {\n",
              "      border-color: transparent;\n",
              "      border-right-color: var(--fill-color);\n",
              "    }\n",
              "    80% {\n",
              "      border-color: transparent;\n",
              "      border-right-color: var(--fill-color);\n",
              "      border-bottom-color: var(--fill-color);\n",
              "    }\n",
              "    90% {\n",
              "      border-color: transparent;\n",
              "      border-bottom-color: var(--fill-color);\n",
              "    }\n",
              "  }\n",
              "</style>\n",
              "\n",
              "  <script>\n",
              "    async function quickchart(key) {\n",
              "      const quickchartButtonEl =\n",
              "        document.querySelector('#' + key + ' button');\n",
              "      quickchartButtonEl.disabled = true;  // To prevent multiple clicks.\n",
              "      quickchartButtonEl.classList.add('colab-df-spinner');\n",
              "      try {\n",
              "        const charts = await google.colab.kernel.invokeFunction(\n",
              "            'suggestCharts', [key], {});\n",
              "      } catch (error) {\n",
              "        console.error('Error during call to suggestCharts:', error);\n",
              "      }\n",
              "      quickchartButtonEl.classList.remove('colab-df-spinner');\n",
              "      quickchartButtonEl.classList.add('colab-df-quickchart-complete');\n",
              "    }\n",
              "    (() => {\n",
              "      let quickchartButtonEl =\n",
              "        document.querySelector('#df-71d662a7-f337-4431-b7d7-6a8e88fe5c97 button');\n",
              "      quickchartButtonEl.style.display =\n",
              "        google.colab.kernel.accessAllowed ? 'block' : 'none';\n",
              "    })();\n",
              "  </script>\n",
              "</div>\n",
              "\n",
              "    </div>\n",
              "  </div>\n"
            ],
            "application/vnd.google.colaboratory.intrinsic+json": {
              "type": "dataframe",
              "variable_name": "df_pandas",
              "summary": "{\n  \"name\": \"df_pandas\",\n  \"rows\": 1215,\n  \"fields\": [\n    {\n      \"column\": \"Image\",\n      \"properties\": {\n        \"dtype\": \"string\",\n        \"num_unique_values\": 1215,\n        \"samples\": [\n          \"images/740.png\",\n          \"images/789.png\",\n          \"images/44.png\"\n        ],\n        \"semantic_type\": \"\",\n        \"description\": \"\"\n      }\n    },\n    {\n      \"column\": \"Index\",\n      \"properties\": {\n        \"dtype\": \"number\",\n        \"std\": 298,\n        \"min\": 1,\n        \"max\": 1025,\n        \"num_unique_values\": 1025,\n        \"samples\": [\n          528,\n          360,\n          448\n        ],\n        \"semantic_type\": \"\",\n        \"description\": \"\"\n      }\n    },\n    {\n      \"column\": \"Name\",\n      \"properties\": {\n        \"dtype\": \"string\",\n        \"num_unique_values\": 1215,\n        \"samples\": [\n          \"Cryogonal\",\n          \"Delphox\",\n          \"Nidoran\\u2642\"\n        ],\n        \"semantic_type\": \"\",\n        \"description\": \"\"\n      }\n    },\n    {\n      \"column\": \"Type 1\",\n      \"properties\": {\n        \"dtype\": \"category\",\n        \"num_unique_values\": 18,\n        \"samples\": [\n          \"Grass\",\n          \"Fire\",\n          \"Ground\"\n        ],\n        \"semantic_type\": \"\",\n        \"description\": \"\"\n      }\n    },\n    {\n      \"column\": \"Type 2\",\n      \"properties\": {\n        \"dtype\": \"category\",\n        \"num_unique_values\": 18,\n        \"samples\": [\n          \"Poison\",\n          \"Flying\",\n          \"Grass\"\n        ],\n        \"semantic_type\": \"\",\n        \"description\": \"\"\n      }\n    },\n    {\n      \"column\": \"Total\",\n      \"properties\": {\n        \"dtype\": \"number\",\n        \"std\": 121,\n        \"min\": 175,\n        \"max\": 1125,\n        \"num_unique_values\": 228,\n        \"samples\": [\n          1125,\n          328,\n          630\n        ],\n        \"semantic_type\": \"\",\n        \"description\": \"\"\n      }\n    },\n    {\n      \"column\": \"HP\",\n      \"properties\": {\n        \"dtype\": \"number\",\n        \"std\": 26,\n        \"min\": 1,\n        \"max\": 255,\n        \"num_unique_values\": 109,\n        \"samples\": [\n          62,\n          40,\n          58\n        ],\n        \"semantic_type\": \"\",\n        \"description\": \"\"\n      }\n    },\n    {\n      \"column\": \"Attack\",\n      \"properties\": {\n        \"dtype\": \"number\",\n        \"std\": 32,\n        \"min\": 5,\n        \"max\": 190,\n        \"num_unique_values\": 126,\n        \"samples\": [\n          66,\n          150,\n          181\n        ],\n        \"semantic_type\": \"\",\n        \"description\": \"\"\n      }\n    },\n    {\n      \"column\": \"Defense\",\n      \"properties\": {\n        \"dtype\": \"number\",\n        \"std\": 30,\n        \"min\": 5,\n        \"max\": 250,\n        \"num_unique_values\": 115,\n        \"samples\": [\n          76,\n          43,\n          160\n        ],\n        \"semantic_type\": \"\",\n        \"description\": \"\"\n      }\n    },\n    {\n      \"column\": \"SP. Atk.\",\n      \"properties\": {\n        \"dtype\": \"number\",\n        \"std\": 32,\n        \"min\": 10,\n        \"max\": 194,\n        \"num_unique_values\": 127,\n        \"samples\": [\n          30,\n          113,\n          41\n        ],\n        \"semantic_type\": \"\",\n        \"description\": \"\"\n      }\n    },\n    {\n      \"column\": \"SP. Def\",\n      \"properties\": {\n        \"dtype\": \"number\",\n        \"std\": 27,\n        \"min\": 20,\n        \"max\": 250,\n        \"num_unique_values\": 107,\n        \"samples\": [\n          126,\n          25,\n          50\n        ],\n        \"semantic_type\": \"\",\n        \"description\": \"\"\n      }\n    },\n    {\n      \"column\": \"Speed\",\n      \"properties\": {\n        \"dtype\": \"number\",\n        \"std\": 30,\n        \"min\": 5,\n        \"max\": 200,\n        \"num_unique_values\": 127,\n        \"samples\": [\n          41,\n          117,\n          24\n        ],\n        \"semantic_type\": \"\",\n        \"description\": \"\"\n      }\n    }\n  ]\n}"
            }
          },
          "metadata": {},
          "execution_count": 21
        }
      ]
    },
    {
      "cell_type": "code",
      "source": [
        "from pyspark.sql import SparkSession\n",
        "\n",
        "spark = SparkSession.builder.appName(\"ExemploLeitura\").getOrCreate()\n",
        "\n",
        "# Leitura de um arquivo CSV\n",
        "df_pyspark = spark.read.csv(\"/root/.cache/kagglehub/datasets/christofferms/pokemon-with-stats-and-image/versions/1/pokedex.csv\", header=True, inferSchema=True)"
      ],
      "metadata": {
        "id": "MXpp8SqmSTTx"
      },
      "execution_count": 22,
      "outputs": []
    },
    {
      "cell_type": "code",
      "source": [
        "#Nomes das colunas\n",
        "for i in df_pandas.columns:\n",
        "  print(i)"
      ],
      "metadata": {
        "colab": {
          "base_uri": "https://localhost:8080/"
        },
        "id": "c0prFa5aSa6f",
        "outputId": "944feffb-7738-49bc-d887-4a89dfb4345c"
      },
      "execution_count": 23,
      "outputs": [
        {
          "output_type": "stream",
          "name": "stdout",
          "text": [
            "Image\n",
            "Index\n",
            "Name\n",
            "Type 1\n",
            "Type 2\n",
            "Total\n",
            "HP\n",
            "Attack\n",
            "Defense\n",
            "SP. Atk.\n",
            "SP. Def\n",
            "Speed\n"
          ]
        }
      ]
    },
    {
      "cell_type": "code",
      "source": [
        "# Seleciona colunas específicas - Pandas\n",
        "df_selecionado_pandas = df_pandas[['Name', 'Defense','Attack']]"
      ],
      "metadata": {
        "id": "0fhqv0oWSutf"
      },
      "execution_count": 25,
      "outputs": []
    },
    {
      "cell_type": "code",
      "source": [
        "# Seleciona colunas específicas - PySpark\n",
        "df_selecionado_spark = df_pyspark.select('Name', 'Defense','Attack')"
      ],
      "metadata": {
        "id": "sNhnLif9S9hN"
      },
      "execution_count": 26,
      "outputs": []
    },
    {
      "cell_type": "code",
      "source": [
        "# Filtra linhas onde coluna1 > 50 - Pandas\n",
        "df_filtrado_pandas = df_pandas[df_pandas['Total'] > 2]"
      ],
      "metadata": {
        "id": "JjxlrwivTUBt"
      },
      "execution_count": 27,
      "outputs": []
    },
    {
      "cell_type": "code",
      "source": [
        "# Filtra linhas onde coluna1 > 50 - PySpark\n",
        "df_filtrado_spark = df_pyspark.filter(df_pyspark.Total > 2)"
      ],
      "metadata": {
        "id": "oHHRipcrTrLM"
      },
      "execution_count": 28,
      "outputs": []
    },
    {
      "cell_type": "code",
      "source": [
        "# Calcula a média de coluna1 agrupada por coluna2 - Pandas\n",
        "df_agregado_pandas = df_pandas.groupby('Speed')['SP. Atk.'].mean().reset_index()"
      ],
      "metadata": {
        "id": "8kMT3umhTx2G"
      },
      "execution_count": 29,
      "outputs": []
    },
    {
      "cell_type": "code",
      "source": [
        "# Calcula a média de coluna1 agrupada por coluna2 - PySpark\n",
        "from pyspark.sql.functions import avg\n",
        "\n",
        "# Calcula a média de coluna1 agrupada por coluna2\n",
        "df_agregado_spark = df_pyspark.groupBy(\"Speed\").agg(avg(\"Attack\").alias(\"media_Speed_Attack\"))"
      ],
      "metadata": {
        "id": "5k4_1ooMUBnP"
      },
      "execution_count": 34,
      "outputs": []
    },
    {
      "cell_type": "code",
      "source": [
        "df_selecionado_spark.show(5)\n",
        "df_filtrado_spark.show(5)\n",
        "df_agregado_spark.show(5)"
      ],
      "metadata": {
        "colab": {
          "base_uri": "https://localhost:8080/"
        },
        "id": "9VmkXVflUqlS",
        "outputId": "25664d3d-d276-4ba6-b4de-280e15e531fe"
      },
      "execution_count": 35,
      "outputs": [
        {
          "output_type": "stream",
          "name": "stdout",
          "text": [
            "+--------------------+-------+------+\n",
            "|                Name|Defense|Attack|\n",
            "+--------------------+-------+------+\n",
            "|           Bulbasaur|     49|    49|\n",
            "|             Ivysaur|     63|    62|\n",
            "|            Venusaur|     83|    82|\n",
            "|Venusaur Mega Ven...|    123|   100|\n",
            "|          Charmander|     43|    52|\n",
            "+--------------------+-------+------+\n",
            "only showing top 5 rows\n",
            "\n",
            "+------------+-----+--------------------+------+------+-----+---+------+-------+--------+-------+-----+\n",
            "|       Image|Index|                Name|Type 1|Type 2|Total| HP|Attack|Defense|SP. Atk.|SP. Def|Speed|\n",
            "+------------+-----+--------------------+------+------+-----+---+------+-------+--------+-------+-----+\n",
            "|images/1.png|    1|           Bulbasaur| Grass|Poison|  318| 45|    49|     49|      65|     65|   45|\n",
            "|images/2.png|    2|             Ivysaur| Grass|Poison|  405| 60|    62|     63|      80|     80|   60|\n",
            "|images/3.png|    3|            Venusaur| Grass|Poison|  525| 80|    82|     83|     100|    100|   80|\n",
            "|images/4.png|    3|Venusaur Mega Ven...| Grass|Poison|  625| 80|   100|    123|     122|    120|   80|\n",
            "|images/5.png|    4|          Charmander|  Fire|  NULL|  309| 39|    52|     43|      60|     50|   65|\n",
            "+------------+-----+--------------------+------+------+-----+---+------+-------+--------+-------+-----+\n",
            "only showing top 5 rows\n",
            "\n",
            "+-----+------------------+\n",
            "|Speed|media_Speed_Attack|\n",
            "+-----+------------------+\n",
            "|  148|             150.0|\n",
            "|   31|              56.5|\n",
            "|   85| 86.75555555555556|\n",
            "|   65| 75.70370370370371|\n",
            "|   78| 86.57142857142857|\n",
            "+-----+------------------+\n",
            "only showing top 5 rows\n",
            "\n"
          ]
        }
      ]
    },
    {
      "cell_type": "code",
      "source": [
        "# Junção de dois DataFrames pandas\n",
        "df1 = pd.read_csv(\"/root/.cache/kagglehub/datasets/christofferms/pokemon-with-stats-and-image/versions/1/pokedex.csv\")\n",
        "df2 = pd.read_csv(\"/root/.cache/kagglehub/datasets/satvshr/top-4-used-car-sales-datasets-combined/versions/2/output.csv\")\n",
        "df_concat = pd.concat([df1, df2], axis=1)"
      ],
      "metadata": {
        "id": "TpazwcisU2_E"
      },
      "execution_count": 50,
      "outputs": []
    },
    {
      "cell_type": "code",
      "source": [
        "df1 = spark.read.csv(\"/root/.cache/kagglehub/datasets/christofferms/pokemon-with-stats-and-image/versions/1/pokedex.csv\", header=True, inferSchema=True)\n",
        "df1 = df1.withColumnRenamed(\"SP. Atk.\", \"SP_Atk\")\n",
        "df1 = df1.withColumnRenamed(\"Type 1\", \"type\")\n",
        "df_juncao = df1.join(df2, on=\"type\", how=\"left\")\n",
        "df2 = spark.read.csv(\"/root/.cache/kagglehub/datasets/satvshr/top-4-used-car-sales-datasets-combined/versions/2/output.csv\", header=True, inferSchema=True)\n",
        "\n",
        "df_juncao = df1.join(df2, on=\"type\", how=\"left\")\n",
        "\n",
        "df_juncao.show()"
      ],
      "metadata": {
        "colab": {
          "base_uri": "https://localhost:8080/"
        },
        "id": "peKrfdyMWHBs",
        "outputId": "6ca55238-3fd5-4c84-d11e-91e6f65fa65f"
      },
      "execution_count": 57,
      "outputs": [
        {
          "output_type": "stream",
          "name": "stdout",
          "text": [
            "+-----+-------------+-----+--------------------+------+-----+---+------+-------+------+-------+-----+-----+-----+------------+----+----+------+----+-----+-----+--------+-------+-----+-----+\n",
            "| type|        Image|Index|                Name|Type 2|Total| HP|Attack|Defense|SP_Atk|SP. Def|Speed|brand|model|transmission| age|fuel|engine|  km|owner|price|location|mileage|power|seats|\n",
            "+-----+-------------+-----+--------------------+------+-----+---+------+-------+------+-------+-----+-----+-----+------------+----+----+------+----+-----+-----+--------+-------+-----+-----+\n",
            "|Grass| images/1.png|    1|           Bulbasaur|Poison|  318| 45|    49|     49|    65|     65|   45| NULL| NULL|        NULL|NULL|NULL|  NULL|NULL| NULL| NULL|    NULL|   NULL| NULL| NULL|\n",
            "|Grass| images/2.png|    2|             Ivysaur|Poison|  405| 60|    62|     63|    80|     80|   60| NULL| NULL|        NULL|NULL|NULL|  NULL|NULL| NULL| NULL|    NULL|   NULL| NULL| NULL|\n",
            "|Grass| images/3.png|    3|            Venusaur|Poison|  525| 80|    82|     83|   100|    100|   80| NULL| NULL|        NULL|NULL|NULL|  NULL|NULL| NULL| NULL|    NULL|   NULL| NULL| NULL|\n",
            "|Grass| images/4.png|    3|Venusaur Mega Ven...|Poison|  625| 80|   100|    123|   122|    120|   80| NULL| NULL|        NULL|NULL|NULL|  NULL|NULL| NULL| NULL|    NULL|   NULL| NULL| NULL|\n",
            "| Fire| images/5.png|    4|          Charmander|  NULL|  309| 39|    52|     43|    60|     50|   65| NULL| NULL|        NULL|NULL|NULL|  NULL|NULL| NULL| NULL|    NULL|   NULL| NULL| NULL|\n",
            "| Fire| images/6.png|    5|          Charmeleon|  NULL|  405| 58|    64|     58|    80|     65|   80| NULL| NULL|        NULL|NULL|NULL|  NULL|NULL| NULL| NULL|    NULL|   NULL| NULL| NULL|\n",
            "| Fire| images/7.png|    6|           Charizard|Flying|  534| 78|    84|     78|   109|     85|  100| NULL| NULL|        NULL|NULL|NULL|  NULL|NULL| NULL| NULL|    NULL|   NULL| NULL| NULL|\n",
            "| Fire| images/8.png|    6|Charizard Mega Ch...|Dragon|  634| 78|   130|    111|   130|     85|  100| NULL| NULL|        NULL|NULL|NULL|  NULL|NULL| NULL| NULL|    NULL|   NULL| NULL| NULL|\n",
            "| Fire| images/9.png|    6|Charizard Mega Ch...|Flying|  634| 78|   104|     78|   159|    115|  100| NULL| NULL|        NULL|NULL|NULL|  NULL|NULL| NULL| NULL|    NULL|   NULL| NULL| NULL|\n",
            "|Water|images/10.png|    7|            Squirtle|  NULL|  314| 44|    48|     65|    50|     64|   43| NULL| NULL|        NULL|NULL|NULL|  NULL|NULL| NULL| NULL|    NULL|   NULL| NULL| NULL|\n",
            "|Water|images/11.png|    8|           Wartortle|  NULL|  405| 59|    63|     80|    65|     80|   58| NULL| NULL|        NULL|NULL|NULL|  NULL|NULL| NULL| NULL|    NULL|   NULL| NULL| NULL|\n",
            "|Water|images/12.png|    9|           Blastoise|  NULL|  530| 79|    83|    100|    85|    105|   78| NULL| NULL|        NULL|NULL|NULL|  NULL|NULL| NULL| NULL|    NULL|   NULL| NULL| NULL|\n",
            "|Water|images/13.png|    9|Blastoise Mega Bl...|  NULL|  630| 79|   103|    120|   135|    115|   78| NULL| NULL|        NULL|NULL|NULL|  NULL|NULL| NULL| NULL|    NULL|   NULL| NULL| NULL|\n",
            "|  Bug|images/14.png|   10|            Caterpie|  NULL|  195| 45|    30|     35|    20|     20|   45| NULL| NULL|        NULL|NULL|NULL|  NULL|NULL| NULL| NULL|    NULL|   NULL| NULL| NULL|\n",
            "|  Bug|images/15.png|   11|             Metapod|  NULL|  205| 50|    20|     55|    25|     25|   30| NULL| NULL|        NULL|NULL|NULL|  NULL|NULL| NULL| NULL|    NULL|   NULL| NULL| NULL|\n",
            "|  Bug|images/16.png|   12|          Butterfree|Flying|  395| 60|    45|     50|    90|     80|   70| NULL| NULL|        NULL|NULL|NULL|  NULL|NULL| NULL| NULL|    NULL|   NULL| NULL| NULL|\n",
            "|  Bug|images/17.png|   13|              Weedle|Poison|  195| 40|    35|     30|    20|     20|   50| NULL| NULL|        NULL|NULL|NULL|  NULL|NULL| NULL| NULL|    NULL|   NULL| NULL| NULL|\n",
            "|  Bug|images/18.png|   14|              Kakuna|Poison|  205| 45|    25|     50|    25|     25|   35| NULL| NULL|        NULL|NULL|NULL|  NULL|NULL| NULL| NULL|    NULL|   NULL| NULL| NULL|\n",
            "|  Bug|images/19.png|   15|            Beedrill|Poison|  395| 65|    90|     40|    45|     80|   75| NULL| NULL|        NULL|NULL|NULL|  NULL|NULL| NULL| NULL|    NULL|   NULL| NULL| NULL|\n",
            "|  Bug|images/20.png|   15|Beedrill Mega Bee...|Poison|  495| 65|   150|     40|    15|     80|  145| NULL| NULL|        NULL|NULL|NULL|  NULL|NULL| NULL| NULL|    NULL|   NULL| NULL| NULL|\n",
            "+-----+-------------+-----+--------------------+------+-----+---+------+-------+------+-------+-----+-----+-----+------------+----+----+------+----+-----+-----+--------+-------+-----+-----+\n",
            "only showing top 20 rows\n",
            "\n"
          ]
        }
      ]
    },
    {
      "cell_type": "code",
      "source": [
        "# Cria uma nova coluna 'nova_coluna' como a soma de 'coluna1' e 'coluna2'\n",
        "df_pandas['nova_coluna'] = df_pandas['Speed'] + df_pandas['Attack']"
      ],
      "metadata": {
        "id": "sxn8fQzpYNQq"
      },
      "execution_count": 59,
      "outputs": []
    },
    {
      "cell_type": "code",
      "source": [
        "from pyspark.sql.functions import col\n",
        "\n",
        "# Cria uma nova coluna 'nova_coluna' como a soma de 'coluna1' e 'coluna2'\n",
        "df_pyspark = df_pyspark.withColumn(\"nova_coluna\", col(\"Speed\") + col(\"Attack\"))"
      ],
      "metadata": {
        "id": "jGAYUaWPYvD_"
      },
      "execution_count": 60,
      "outputs": []
    },
    {
      "cell_type": "code",
      "source": [
        "# Ordena o DataFrame pelo 'coluna1' em ordem descendente\n",
        "df_pandas_ordenado = df_pandas.sort_values(by='Speed', ascending=False)"
      ],
      "metadata": {
        "id": "R8_qvONuYxc-"
      },
      "execution_count": 61,
      "outputs": []
    },
    {
      "cell_type": "code",
      "source": [
        "# Ordena o DataFrame pelo 'coluna1' em ordem descendente\n",
        "df_pyspark_ordenado = df_pyspark.orderBy(df_pyspark.Speed.desc())"
      ],
      "metadata": {
        "id": "PZnlVaLqY0un"
      },
      "execution_count": 62,
      "outputs": []
    }
  ],
  "metadata": {
    "colab": {
      "provenance": []
    },
    "kernelspec": {
      "display_name": "Python 3",
      "name": "python3"
    },
    "language_info": {
      "name": "python"
    }
  },
  "nbformat": 4,
  "nbformat_minor": 0
}