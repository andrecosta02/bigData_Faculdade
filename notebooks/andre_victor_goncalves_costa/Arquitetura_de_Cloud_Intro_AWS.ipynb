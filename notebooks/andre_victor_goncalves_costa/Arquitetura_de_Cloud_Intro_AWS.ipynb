{
  "nbformat": 4,
  "nbformat_minor": 0,
  "metadata": {
    "colab": {
      "provenance": []
    },
    "kernelspec": {
      "name": "python3",
      "display_name": "Python 3"
    },
    "language_info": {
      "name": "python"
    }
  },
  "cells": [
    {
      "cell_type": "markdown",
      "source": [
        "#Tutorial: Introdução aos Serviços S3 e SQS da AWS e Como Usá-los com boto3\n",
        "\n",
        "Neste tutorial, vamos explorar os serviços Amazon S3 e Amazon SQS da AWS e aprender como interagir com esses serviços usando o SDK do Python, o boto3. Ambos os serviços são amplamente utilizados na arquitetura de aplicações na nuvem e oferecem funcionalidades robustas para armazenamento de arquivos e gerenciamento de filas de mensagens, respectivamente.\n",
        "\n",
        "**Pré-requisitos:**\n",
        "\n",
        "*  Conta AWS com permissões adequadas para acessar o S3 e o SQS.\n",
        "*  Python 3.x instalado.\n",
        "*  Biblioteca boto3 instalada (pip install boto3).\n",
        "\n",
        "## Configurando o Cliente AWS com boto3\n",
        "\n",
        "Antes de começarmos a interagir com os serviços S3 e SQS, precisamos criar um cliente boto3 que autentica utilizando as credenciais da AWS (Access Key ID e Secret Access Key). Aqui está como podemos fazer isso:"
      ],
      "metadata": {
        "id": "cnrXfy7FvXgW"
      }
    },
    {
      "cell_type": "code",
      "source": [
        "# Instalando a dependência do boto3\n",
        "!pip install boto3"
      ],
      "metadata": {
        "colab": {
          "base_uri": "https://localhost:8080/"
        },
        "id": "yM3YKOdovztJ",
        "outputId": "3cf77671-246a-4b28-8c90-9410494c96f7"
      },
      "execution_count": null,
      "outputs": [
        {
          "output_type": "stream",
          "name": "stdout",
          "text": [
            "Collecting boto3\n",
            "  Downloading boto3-1.35.58-py3-none-any.whl.metadata (6.7 kB)\n",
            "Collecting botocore<1.36.0,>=1.35.58 (from boto3)\n",
            "  Downloading botocore-1.35.58-py3-none-any.whl.metadata (5.7 kB)\n",
            "Collecting jmespath<2.0.0,>=0.7.1 (from boto3)\n",
            "  Downloading jmespath-1.0.1-py3-none-any.whl.metadata (7.6 kB)\n",
            "Collecting s3transfer<0.11.0,>=0.10.0 (from boto3)\n",
            "  Downloading s3transfer-0.10.3-py3-none-any.whl.metadata (1.7 kB)\n",
            "Requirement already satisfied: python-dateutil<3.0.0,>=2.1 in /usr/local/lib/python3.10/dist-packages (from botocore<1.36.0,>=1.35.58->boto3) (2.8.2)\n",
            "Requirement already satisfied: urllib3!=2.2.0,<3,>=1.25.4 in /usr/local/lib/python3.10/dist-packages (from botocore<1.36.0,>=1.35.58->boto3) (2.2.3)\n",
            "Requirement already satisfied: six>=1.5 in /usr/local/lib/python3.10/dist-packages (from python-dateutil<3.0.0,>=2.1->botocore<1.36.0,>=1.35.58->boto3) (1.16.0)\n",
            "Downloading boto3-1.35.58-py3-none-any.whl (139 kB)\n",
            "\u001b[2K   \u001b[90m━━━━━━━━━━━━━━━━━━━━━━━━━━━━━━━━━━━━━━━━\u001b[0m \u001b[32m139.2/139.2 kB\u001b[0m \u001b[31m2.9 MB/s\u001b[0m eta \u001b[36m0:00:00\u001b[0m\n",
            "\u001b[?25hDownloading botocore-1.35.58-py3-none-any.whl (12.7 MB)\n",
            "\u001b[2K   \u001b[90m━━━━━━━━━━━━━━━━━━━━━━━━━━━━━━━━━━━━━━━━\u001b[0m \u001b[32m12.7/12.7 MB\u001b[0m \u001b[31m46.7 MB/s\u001b[0m eta \u001b[36m0:00:00\u001b[0m\n",
            "\u001b[?25hDownloading jmespath-1.0.1-py3-none-any.whl (20 kB)\n",
            "Downloading s3transfer-0.10.3-py3-none-any.whl (82 kB)\n",
            "\u001b[2K   \u001b[90m━━━━━━━━━━━━━━━━━━━━━━━━━━━━━━━━━━━━━━━━\u001b[0m \u001b[32m82.6/82.6 kB\u001b[0m \u001b[31m5.3 MB/s\u001b[0m eta \u001b[36m0:00:00\u001b[0m\n",
            "\u001b[?25hInstalling collected packages: jmespath, botocore, s3transfer, boto3\n",
            "Successfully installed boto3-1.35.58 botocore-1.35.58 jmespath-1.0.1 s3transfer-0.10.3\n"
          ]
        }
      ]
    },
    {
      "cell_type": "code",
      "execution_count": null,
      "metadata": {
        "id": "14qhNxpJvM9F"
      },
      "outputs": [],
      "source": [
        "import boto3\n",
        "\n",
        "def criar_cliente(servico, access_key, secret_key, region):\n",
        "    \"\"\"\n",
        "    Função para criar um cliente boto3 para qualquer serviço AWS.\n",
        "\n",
        "    :param servico: Nome do serviço AWS (ex: 's3', 'sqs')\n",
        "    :param access_key: Sua AWS Access Key ID\n",
        "    :param secret_key: Sua AWS Secret Access Key\n",
        "    :param region: Região da AWS (ex: 'us-east-1')\n",
        "\n",
        "    :return: Cliente boto3 para o serviço especificado\n",
        "    \"\"\"\n",
        "    cliente = boto3.client(\n",
        "        servico,\n",
        "        aws_access_key_id=access_key,\n",
        "        aws_secret_access_key=secret_key,\n",
        "        region_name=region\n",
        "    )\n",
        "    return cliente\n"
      ]
    },
    {
      "cell_type": "markdown",
      "source": [
        "## Parte 1: Amazon S3\n",
        "O Amazon S3 (Simple Storage Service) é uma solução de armazenamento de objetos altamente escalável e durável. Ele permite armazenar e recuperar qualquer quantidade de dados a qualquer momento.\n",
        "\n",
        "**Criando o Cliente S3**\n",
        "\n",
        "Usando a função criar_cliente, podemos criar um cliente para o S3:"
      ],
      "metadata": {
        "id": "aBa8sQWTwDik"
      }
    },
    {
      "cell_type": "code",
      "source": [
        "# Insira suas credenciais aqui\n",
        "ACCESS_KEY = '---' # Removido para realizar Commit através do GitHub\n",
        "SECRET_KEY = '---' # Removido para realizar Commit através do GitHub\n",
        "REGION = 'us-east-1'\n",
        "\n",
        "s3_cliente = criar_cliente('s3', ACCESS_KEY, SECRET_KEY, REGION)\n"
      ],
      "metadata": {
        "id": "IEuVsnz8vmwB"
      },
      "execution_count": null,
      "outputs": []
    },
    {
      "cell_type": "markdown",
      "source": [
        "**1. Criando um Bucket**\n",
        "\n",
        "Para armazenar dados no S3, você precisa de um \"bucket\". Um bucket é basicamente um contêiner para seus objetos (arquivos)."
      ],
      "metadata": {
        "id": "Jxqgt0-pwRaA"
      }
    },
    {
      "cell_type": "code",
      "source": [
        "# Mude o nome do bucket todas as vezes que você for executar esse script para um\n",
        "# nome novo e não repetido\n",
        "bucket_name = 'andre-victor-uninassau'\n",
        "\n",
        "# Criar um bucket\n",
        "s3_cliente.create_bucket(Bucket=bucket_name)\n",
        "print(f\"Bucket '{bucket_name}' criado com sucesso.\")"
      ],
      "metadata": {
        "colab": {
          "base_uri": "https://localhost:8080/"
        },
        "id": "4pWgDTIiwOj5",
        "outputId": "a0d160e8-0be2-4f27-c68a-5e79fa62b240"
      },
      "execution_count": null,
      "outputs": [
        {
          "output_type": "stream",
          "name": "stdout",
          "text": [
            "Bucket 'andre-victor-uninassau' criado com sucesso.\n"
          ]
        }
      ]
    },
    {
      "cell_type": "markdown",
      "source": [
        "**2. Fazendo Upload de um Arquivo**\n",
        "\n",
        "Você pode fazer upload de arquivos no bucket do S3 facilmente com o método upload_file."
      ],
      "metadata": {
        "id": "IJAz8o4PxOr7"
      }
    },
    {
      "cell_type": "code",
      "source": [
        "# Caminho para o arquivo local\n",
        "arquivo_local = '/content/sample_data/anscombe.json'\n",
        "\n",
        "# Nome do arquivo no S3\n",
        "arquivo_no_s3 = 'anscombe.json'\n",
        "\n",
        "# Fazer o upload\n",
        "s3_cliente.upload_file(arquivo_local, bucket_name, arquivo_no_s3)\n",
        "print(f\"Arquivo '{arquivo_local}' enviado como '{arquivo_no_s3}' no bucket '{bucket_name}'.\")\n"
      ],
      "metadata": {
        "colab": {
          "base_uri": "https://localhost:8080/"
        },
        "id": "lEBkXEN8wXME",
        "outputId": "9e4c0aab-a37f-40bc-9174-dd42356392b6"
      },
      "execution_count": null,
      "outputs": [
        {
          "output_type": "stream",
          "name": "stdout",
          "text": [
            "Arquivo '/content/sample_data/anscombe.json' enviado como 'anscombe.json' no bucket 'andre-victor-uninassau'.\n"
          ]
        }
      ]
    },
    {
      "cell_type": "markdown",
      "source": [
        "**3. Listando Objetos no Bucket**\n",
        "\n",
        "Para ver quais arquivos estão em um bucket:"
      ],
      "metadata": {
        "id": "1uIo10iFxjoh"
      }
    },
    {
      "cell_type": "code",
      "source": [
        "# Listar objetos no bucket\n",
        "response = s3_cliente.list_objects_v2(Bucket=bucket_name)\n",
        "\n",
        "# Verificar se existem objetos\n",
        "if 'Contents' in response:\n",
        "    for obj in response['Contents']:\n",
        "        print(f\"Arquivo encontrado: {obj['Key']}\")\n",
        "else:\n",
        "    print(\"Nenhum arquivo encontrado no bucket.\")\n"
      ],
      "metadata": {
        "colab": {
          "base_uri": "https://localhost:8080/"
        },
        "id": "eaiEiPHhxgFL",
        "outputId": "082ebeba-53d5-4b06-a3b9-7bf2f2898db0"
      },
      "execution_count": null,
      "outputs": [
        {
          "output_type": "stream",
          "name": "stdout",
          "text": [
            "Arquivo encontrado: anscombe.json\n"
          ]
        }
      ]
    },
    {
      "cell_type": "markdown",
      "source": [
        "**4. Fazendo Download de um Arquivo**\n",
        "\n",
        "Para baixar um arquivo do S3 para o seu sistema local:"
      ],
      "metadata": {
        "id": "bD9-d39sxqjC"
      }
    },
    {
      "cell_type": "code",
      "source": [
        "# Nome do arquivo no S3 e o caminho local onde será salvo\n",
        "arquivo_para_download = 'anscombe.json'\n",
        "caminho_local = '/content/sample_data/anscombe-copy.json'\n",
        "\n",
        "# Fazer o download\n",
        "s3_cliente.download_file(bucket_name, arquivo_para_download, caminho_local)\n",
        "print(f\"Arquivo '{arquivo_para_download}' baixado para '{caminho_local}'.\")\n"
      ],
      "metadata": {
        "colab": {
          "base_uri": "https://localhost:8080/"
        },
        "id": "-XFG8wX0xqTr",
        "outputId": "d756ecbd-075e-4eb4-a8ff-daa621fcc5d6"
      },
      "execution_count": null,
      "outputs": [
        {
          "output_type": "stream",
          "name": "stdout",
          "text": [
            "Arquivo 'anscombe.json' baixado para '/content/sample_data/anscombe-copy.json'.\n"
          ]
        }
      ]
    },
    {
      "cell_type": "markdown",
      "source": [
        "Maiores informações sobre o serviço: https://aws.amazon.com/pt/s3/"
      ],
      "metadata": {
        "id": "1q6wRfGX5IEN"
      }
    },
    {
      "cell_type": "markdown",
      "source": [
        "#Parte 2: Amazon SQS\n",
        "\n",
        "O Amazon SQS (Simple Queue Service) é um serviço de mensagens distribuídas que permite que as aplicações se comuniquem de forma desacoplada e assíncrona.\n",
        "\n",
        "**Criando o Cliente SQS**\n",
        "\n",
        "Agora, vamos criar um cliente para o serviço SQS usando a mesma função criar_cliente:"
      ],
      "metadata": {
        "id": "6TtIgMwCyArO"
      }
    },
    {
      "cell_type": "code",
      "source": [
        "sqs_cliente = criar_cliente('sqs', ACCESS_KEY, SECRET_KEY, REGION)"
      ],
      "metadata": {
        "id": "RoiJWJ6ixnaR"
      },
      "execution_count": null,
      "outputs": []
    },
    {
      "cell_type": "markdown",
      "source": [
        "**1. Criando uma Fila**\n",
        "\n",
        "Para criar uma fila no SQS, usamos o método create_queue."
      ],
      "metadata": {
        "id": "g5_VQVCgyI67"
      }
    },
    {
      "cell_type": "code",
      "source": [
        "nome_da_fila = 'minha-fila-uninassau'\n",
        "\n",
        "response = sqs_cliente.create_queue(QueueName=nome_da_fila)\n",
        "queue_url = response['QueueUrl']\n",
        "print(f\"Fila '{nome_da_fila}' criada com sucesso. URL da fila: {queue_url}\")"
      ],
      "metadata": {
        "colab": {
          "base_uri": "https://localhost:8080/"
        },
        "id": "PHILjTgOyGGj",
        "outputId": "0d2cdcbc-2f39-47be-a918-40c947faedd9"
      },
      "execution_count": null,
      "outputs": [
        {
          "output_type": "stream",
          "name": "stdout",
          "text": [
            "Fila 'minha-fila-uninassau' criada com sucesso. URL da fila: https://sqs.us-east-1.amazonaws.com/730335451097/minha-fila-uninassau\n"
          ]
        }
      ]
    },
    {
      "cell_type": "markdown",
      "source": [
        "**2. Enviando uma Mensagem**\n",
        "\n",
        "Para enviar uma mensagem para a fila:"
      ],
      "metadata": {
        "id": "J0GL0TldySh7"
      }
    },
    {
      "cell_type": "code",
      "source": [
        "mensagem = 'Olá, esta é uma mensagem de exemplo!'\n",
        "\n",
        "response = sqs_cliente.send_message(QueueUrl=queue_url, MessageBody=mensagem)\n",
        "print(f\"Mensagem enviada com sucesso! ID da mensagem: {response['MessageId']}\")"
      ],
      "metadata": {
        "colab": {
          "base_uri": "https://localhost:8080/"
        },
        "id": "sDwpRADHyPY8",
        "outputId": "7ea41b8c-cc99-4e49-e071-8d91f9edca36"
      },
      "execution_count": null,
      "outputs": [
        {
          "output_type": "stream",
          "name": "stdout",
          "text": [
            "Mensagem enviada com sucesso! ID da mensagem: c93fc9b6-9063-435f-8297-f0b7770bf13d\n"
          ]
        }
      ]
    },
    {
      "cell_type": "markdown",
      "source": [
        "**3. Recebendo Mensagens**\n",
        "\n",
        "Podemos recuperar mensagens de uma fila com o método receive_message."
      ],
      "metadata": {
        "id": "E0w8ecYWyZ_7"
      }
    },
    {
      "cell_type": "code",
      "source": [
        "response = sqs_cliente.receive_message(QueueUrl=queue_url, MaxNumberOfMessages=1)\n",
        "\n",
        "# Verificar se há mensagens\n",
        "if 'Messages' in response:\n",
        "    mensagem_recebida = response['Messages'][0]\n",
        "    print(f\"Mensagem recebida: {mensagem_recebida['Body']}\")\n",
        "\n",
        "    # Excluir a mensagem da fila\n",
        "    sqs_cliente.delete_message(QueueUrl=queue_url, ReceiptHandle=mensagem_recebida['ReceiptHandle'])\n",
        "    print(\"Mensagem excluída da fila.\")\n",
        "else:\n",
        "    print(\"Nenhuma mensagem disponível.\")"
      ],
      "metadata": {
        "colab": {
          "base_uri": "https://localhost:8080/"
        },
        "id": "MNgy2B9gyWzL",
        "outputId": "239d9e38-267f-4856-d007-c10ef97341e2"
      },
      "execution_count": null,
      "outputs": [
        {
          "output_type": "stream",
          "name": "stdout",
          "text": [
            "Mensagem recebida: Olá, esta é uma mensagem de exemplo!\n",
            "Mensagem excluída da fila.\n"
          ]
        }
      ]
    },
    {
      "cell_type": "markdown",
      "source": [
        "**4. Excluindo uma Fila**\n",
        "\n",
        "Para excluir a fila quando ela não for mais necessária:"
      ],
      "metadata": {
        "id": "vCLqeXhHyjCP"
      }
    },
    {
      "cell_type": "code",
      "source": [],
      "metadata": {
        "id": "b-AGuvh8ygA_"
      },
      "execution_count": null,
      "outputs": []
    },
    {
      "cell_type": "markdown",
      "source": [
        "Maiores informações : https://aws.amazon.com/pt/sqs/"
      ],
      "metadata": {
        "id": "BxXhhu2Q5O4v"
      }
    },
    {
      "cell_type": "markdown",
      "source": [
        "# Introdução aos Serviços SNS\n",
        "\n",
        "Nesta continuação do tutorial, abordaremos o Amazon SNS (Simple Notification Service) . O SNS é usado para enviar notificações em tempo real a serviços ou usuários.\n",
        "\n",
        "**Pré-requisitos:**\n",
        "\n",
        "*  Conta AWS com permissões adequadas para acessar o SNS e o Rekognition.\n",
        "*  Python 3.x instalado.\n",
        "*  Biblioteca boto3 instalada (pip install boto3).\n",
        "\n",
        "\n",
        "**Parte 1: Amazon SNS (Simple Notification Service)**\n",
        "\n",
        "O Amazon SNS é um serviço que permite o envio de mensagens de forma eficiente e escalável para dispositivos móveis, serviços e endpoints HTTP/HTTPS.\n",
        "\n",
        "**Criando o Cliente SNS**\n",
        "\n",
        "Usaremos a mesma função criar_cliente para criar o cliente para o SNS:"
      ],
      "metadata": {
        "id": "59okXICky2BO"
      }
    },
    {
      "cell_type": "code",
      "source": [
        "sns_cliente = criar_cliente('sns', ACCESS_KEY, SECRET_KEY, REGION)"
      ],
      "metadata": {
        "id": "TOuSevaHzEBn"
      },
      "execution_count": null,
      "outputs": []
    },
    {
      "cell_type": "markdown",
      "source": [
        "**1. Criando um Tópico SNS**\n",
        "\n",
        "Um tópico SNS é o ponto central de distribuição de mensagens para os assinantes (subscribers). Podemos criar um tópico SNS da seguinte forma:"
      ],
      "metadata": {
        "id": "AzgS4O1szKFJ"
      }
    },
    {
      "cell_type": "code",
      "source": [
        "nome_do_topico = 'meu-topico-exemplo'\n",
        "\n",
        "response = sns_cliente.create_topic(Name=nome_do_topico)\n",
        "topic_arn = response['TopicArn']\n",
        "print(f\"Tópico '{nome_do_topico}' criado com sucesso. ARN do tópico: {topic_arn}\")"
      ],
      "metadata": {
        "colab": {
          "base_uri": "https://localhost:8080/"
        },
        "id": "uPrHDnZFzIGV",
        "outputId": "d1d70156-ebd5-4915-e13d-46d0a43900d1"
      },
      "execution_count": null,
      "outputs": [
        {
          "output_type": "stream",
          "name": "stdout",
          "text": [
            "Tópico 'meu-topico-exemplo' criado com sucesso. ARN do tópico: arn:aws:sns:us-east-1:730335451097:meu-topico-exemplo\n"
          ]
        }
      ]
    },
    {
      "cell_type": "markdown",
      "source": [
        "**2. Inscrevendo um Assinante (Subscriber)**\n",
        "\n",
        "Para inscrever um assinante (por exemplo, um endereço de email) no tópico criado:"
      ],
      "metadata": {
        "id": "GP70sX0rzUMY"
      }
    },
    {
      "cell_type": "code",
      "source": [
        "email_assinante = 'lipe.nscm@gmail.com'\n",
        "\n",
        "response = sns_cliente.subscribe(\n",
        "    TopicArn=topic_arn,\n",
        "    Protocol='email',  # O protocolo pode ser email, sms, sqs, etc.\n",
        "    Endpoint=email_assinante\n",
        ")\n",
        "subscription_arn = response['SubscriptionArn']\n",
        "print(f\"Assinante '{email_assinante}' inscrito com sucesso. ARN da inscrição: {subscription_arn}\")\n"
      ],
      "metadata": {
        "colab": {
          "base_uri": "https://localhost:8080/"
        },
        "id": "7-SxdnfVzVmP",
        "outputId": "a465954e-d154-4d79-cf1b-34893b1effb2"
      },
      "execution_count": null,
      "outputs": [
        {
          "output_type": "stream",
          "name": "stdout",
          "text": [
            "Assinante 'lipe.nscm@gmail.com' inscrito com sucesso. ARN da inscrição: pending confirmation\n"
          ]
        }
      ]
    },
    {
      "cell_type": "markdown",
      "source": [
        "**3. Enviando uma Mensagem para o Tópico**\n",
        "\n",
        "Agora podemos enviar uma mensagem para todos os assinantes do tópico:"
      ],
      "metadata": {
        "id": "D0ceomYizeyr"
      }
    },
    {
      "cell_type": "code",
      "source": [
        "mensagem = 'Esta é uma mensagem de exemplo enviada pelo SNS!'\n",
        "\n",
        "sns_cliente.publish(\n",
        "    TopicArn=topic_arn,\n",
        "    Message=mensagem\n",
        ")\n",
        "print(f\"Mensagem enviada para o tópico '{nome_do_topico}'.\")"
      ],
      "metadata": {
        "colab": {
          "base_uri": "https://localhost:8080/"
        },
        "id": "2OsmjzJ0zbZ-",
        "outputId": "2971f381-fef0-493d-92a7-fbdc652adfa6"
      },
      "execution_count": null,
      "outputs": [
        {
          "output_type": "stream",
          "name": "stdout",
          "text": [
            "Mensagem enviada para o tópico 'meu-topico-exemplo'.\n"
          ]
        }
      ]
    },
    {
      "cell_type": "markdown",
      "source": [
        "**4. Excluindo um Tópico SNS**\n",
        "\n",
        "Quando o tópico SNS não for mais necessário, podemos excluí-lo da seguinte forma:"
      ],
      "metadata": {
        "id": "PTRZbgHrzwze"
      }
    },
    {
      "cell_type": "code",
      "source": [
        "sns_cliente.delete_topic(TopicArn=topic_arn)\n",
        "print(f\"Tópico '{nome_do_topico}' excluído com sucesso.\")\n"
      ],
      "metadata": {
        "colab": {
          "base_uri": "https://localhost:8080/"
        },
        "id": "cj439hZazilA",
        "outputId": "9a489935-8ab4-4692-851b-8dc94b1336d8"
      },
      "execution_count": null,
      "outputs": [
        {
          "output_type": "stream",
          "name": "stdout",
          "text": [
            "Tópico 'meu-topico-exemplo' excluído com sucesso.\n"
          ]
        }
      ]
    },
    {
      "cell_type": "markdown",
      "source": [
        "Maiores informações : https://aws.amazon.com/pt/sns/"
      ],
      "metadata": {
        "id": "0o0qShRu5WdC"
      }
    },
    {
      "cell_type": "markdown",
      "source": [
        "# Introdução aos Serviços Lambda e EC2 da AWS com boto3\n",
        "\n",
        "Nesta seção, vamos explorar dois serviços essenciais da AWS: AWS Lambda, um serviço de computação sem servidor que executa seu código em resposta a eventos, e Amazon EC2 (Elastic Compute Cloud), que fornece capacidade de computação escalável na nuvem. Veremos como usar o boto3 para interagir com esses serviços.\n",
        "\n",
        "**Pré-requisitos:**\n",
        "\n",
        "*  Conta AWS com permissões adequadas para acessar o Lambda e o EC2.\n",
        "*  Python 3.x instalado.\n",
        "*  Biblioteca boto3 instalada (pip install boto3).\n",
        "\n",
        "**Configurando o Cliente AWS com boto3**\n",
        "\n",
        "Como nos tutoriais anteriores, utilizaremos a função criar_cliente para criar os clientes do AWS Lambda e EC2:"
      ],
      "metadata": {
        "id": "x8Pu-_KT1Rpf"
      }
    },
    {
      "cell_type": "code",
      "source": [
        "import boto3\n",
        "\n",
        "def criar_cliente(servico, access_key, secret_key, region):\n",
        "    \"\"\"\n",
        "    Função para criar um cliente boto3 para qualquer serviço AWS.\n",
        "    \"\"\"\n",
        "    cliente = boto3.client(\n",
        "        servico,\n",
        "        aws_access_key_id=access_key,\n",
        "        aws_secret_access_key=secret_key,\n",
        "        region_name=region\n",
        "    )\n",
        "    return cliente\n"
      ],
      "metadata": {
        "id": "47VdSvyz1dRt"
      },
      "execution_count": null,
      "outputs": []
    },
    {
      "cell_type": "markdown",
      "source": [
        "## Parte 1: AWS Lambda\n",
        "\n",
        "O AWS Lambda permite que você execute código sem precisar provisionar ou gerenciar servidores. Você só precisa enviar o código e o Lambda o executa automaticamente em resposta a eventos.\n",
        "\n",
        "**Criando o Cliente Lambda**\n",
        "\n",
        "Para começar, vamos criar um cliente boto3 para o Lambda:"
      ],
      "metadata": {
        "id": "JRH_waoT1gtP"
      }
    },
    {
      "cell_type": "code",
      "source": [
        "lambda_cliente = criar_cliente('lambda', ACCESS_KEY, SECRET_KEY, REGION)"
      ],
      "metadata": {
        "id": "8BgJ7D7Z1edK"
      },
      "execution_count": null,
      "outputs": []
    },
    {
      "cell_type": "markdown",
      "source": [
        "**1. Criando uma Função Lambda**\n",
        "\n",
        "Você pode criar uma função Lambda com o código-fonte e definir suas configurações. Aqui está um exemplo de como criar uma função simples que retorna \"Hello World\"."
      ],
      "metadata": {
        "id": "t7LufRej1oj1"
      }
    },
    {
      "cell_type": "code",
      "source": [
        "import zipfile\n",
        "\n",
        "# Função para criar um pacote de código zip para Lambda\n",
        "def criar_pacote_lambda(arquivo_python, arquivo_zip):\n",
        "    with zipfile.ZipFile(arquivo_zip, 'w') as zf:\n",
        "        zf.write(arquivo_python)\n",
        "\n",
        "# Nome do arquivo Python e pacote zip\n",
        "arquivo_python = 'lambda_function.py'\n",
        "arquivo_zip = 'lambda_package.zip'\n",
        "\n",
        "# Criar o pacote zipado da função\n",
        "criar_pacote_lambda(arquivo_python, arquivo_zip)\n",
        "\n",
        "# Configuração da função Lambda\n",
        "nome_funcao = 'minhaFuncaoLambda'\n",
        "role_arn = 'arn:aws:iam::123456789012:role/service-role/lambda-role'\n",
        "\n",
        "# Carregar o código zipado\n",
        "with open(arquivo_zip, 'rb') as f:\n",
        "    codigo_zip = f.read()\n",
        "\n",
        "# Criar a função Lambda\n",
        "response = lambda_cliente.create_function(\n",
        "    FunctionName=nome_funcao,\n",
        "    Runtime='python3.8',\n",
        "    Role=role_arn,\n",
        "    Handler='lambda_function.lambda_handler',  # Handler padrão\n",
        "    Code={'ZipFile': codigo_zip},\n",
        "    Timeout=15,\n",
        "    MemorySize=128\n",
        ")\n",
        "\n",
        "print(f\"Função Lambda '{nome_funcao}' criada com sucesso.\")"
      ],
      "metadata": {
        "id": "dZ5vHqVR1mYe"
      },
      "execution_count": null,
      "outputs": []
    },
    {
      "cell_type": "markdown",
      "source": [
        "No arquivo lambda_function.py, você pode ter o seguinte código simples:\n"
      ],
      "metadata": {
        "id": "5mDT7MJc169t"
      }
    },
    {
      "cell_type": "code",
      "source": [
        "# lambda_function.py\n",
        "def lambda_handler(event, context):\n",
        "    return {\n",
        "        'statusCode': 200,\n",
        "        'body': 'Hello World!'\n",
        "    }\n"
      ],
      "metadata": {
        "id": "EM8IB88f1toq"
      },
      "execution_count": null,
      "outputs": []
    },
    {
      "cell_type": "markdown",
      "source": [
        "**2. Invocando uma Função Lambda**\n",
        "\n",
        "Você pode invocar uma função Lambda diretamente pelo boto3:"
      ],
      "metadata": {
        "id": "eKJ3vxHV1_rW"
      }
    },
    {
      "cell_type": "code",
      "source": [
        "response = lambda_cliente.invoke(\n",
        "    FunctionName=nome_funcao,\n",
        "    InvocationType='RequestResponse',\n",
        "    Payload=b'{}'  # Payload vazio, apenas um exemplo\n",
        ")\n",
        "\n",
        "resultado = response['Payload'].read().decode('utf-8')\n",
        "print(f\"Resultado da invocação: {resultado}\")\n"
      ],
      "metadata": {
        "id": "Jwc8gXmY1-Bn"
      },
      "execution_count": null,
      "outputs": []
    },
    {
      "cell_type": "markdown",
      "source": [
        "**3. Atualizando o Código de uma Função Lambda**\n",
        "\n",
        "Caso você queira atualizar o código de uma função Lambda, pode fazer isso assim:"
      ],
      "metadata": {
        "id": "BNv6Yq6N2D2x"
      }
    },
    {
      "cell_type": "code",
      "source": [
        "with open(arquivo_zip, 'rb') as f:\n",
        "    codigo_zip = f.read()\n",
        "\n",
        "# Atualizar o código da função Lambda\n",
        "lambda_cliente.update_function_code(\n",
        "    FunctionName=nome_funcao,\n",
        "    ZipFile=codigo_zip\n",
        ")\n",
        "\n",
        "print(f\"Código da função '{nome_funcao}' atualizado com sucesso.\")\n"
      ],
      "metadata": {
        "id": "MkPmbFht2Nw2"
      },
      "execution_count": null,
      "outputs": []
    },
    {
      "cell_type": "markdown",
      "source": [
        "**4. Excluindo uma Função Lambda**\n",
        "\n",
        "Para excluir uma função Lambda quando ela não for mais necessária:"
      ],
      "metadata": {
        "id": "i1naJ5im2Rwd"
      }
    },
    {
      "cell_type": "code",
      "source": [
        "lambda_cliente.delete_function(FunctionName=nome_funcao)\n",
        "print(f\"Função Lambda '{nome_funcao}' excluída com sucesso.\")"
      ],
      "metadata": {
        "id": "Z30qpVlG2VY9"
      },
      "execution_count": null,
      "outputs": []
    },
    {
      "cell_type": "markdown",
      "source": [
        "Maiores informações : https://aws.amazon.com/pt/lambda/"
      ],
      "metadata": {
        "id": "rBZN8sAe5bby"
      }
    },
    {
      "cell_type": "markdown",
      "source": [
        "##Parte 2: Amazon EC2\n",
        "O Amazon EC2 (Elastic Compute Cloud) permite que você lance e gerencie servidores virtuais (chamados de instâncias EC2) na nuvem da AWS.\n",
        "\n",
        "**Criando o Cliente EC2**\n",
        "\n",
        "Vamos criar um cliente boto3 para o EC2:"
      ],
      "metadata": {
        "id": "TqXMmuuZ2YHd"
      }
    },
    {
      "cell_type": "code",
      "source": [
        "ec2_cliente = criar_cliente('ec2', ACCESS_KEY, SECRET_KEY, REGION)"
      ],
      "metadata": {
        "id": "KuDwxn072cJm"
      },
      "execution_count": null,
      "outputs": []
    },
    {
      "cell_type": "markdown",
      "source": [
        "**1. Iniciando uma Instância EC2**\n",
        "\n",
        "Aqui está como você pode iniciar uma instância EC2 usando boto3. Você precisará especificar o AMI ID (Amazon Machine Image), que é a imagem da máquina que será usada para inicializar a instância, e o ID da chave SSH para acessar a instância."
      ],
      "metadata": {
        "id": "95bLp5r72gw7"
      }
    },
    {
      "cell_type": "code",
      "source": [
        "# Parâmetros para a instância EC2\n",
        "ami_id = 'ami-0fff1b9a61dec8a5f'  # Substitua com uma AMI válida\n",
        "tipo_instancia = 't1.micro'\n",
        "key_name = 'meu-par-de-chaves-2'\n",
        "\n",
        "# Iniciar uma instância EC2\n",
        "response = ec2_cliente.run_instances(\n",
        "    ImageId=ami_id,\n",
        "    InstanceType=tipo_instancia,\n",
        "    KeyName=key_name,\n",
        "    MinCount=1,\n",
        "    MaxCount=1\n",
        ")\n",
        "\n",
        "instancia_id = response['Instances'][0]['InstanceId']\n",
        "print(f\"Instância EC2 '{instancia_id}' iniciada com sucesso.\")\n"
      ],
      "metadata": {
        "colab": {
          "base_uri": "https://localhost:8080/"
        },
        "id": "XBo4hdXp2eLz",
        "outputId": "0e4dbe3e-e06f-4f67-e2f8-cfc9944cfa6c"
      },
      "execution_count": null,
      "outputs": [
        {
          "output_type": "stream",
          "name": "stdout",
          "text": [
            "Instância EC2 'i-05e6d2cd77d392354' iniciada com sucesso.\n"
          ]
        }
      ]
    },
    {
      "cell_type": "markdown",
      "source": [
        "**2. Listando Instâncias EC2**\n",
        "\n",
        "Você pode listar todas as suas instâncias EC2 da seguinte forma:"
      ],
      "metadata": {
        "id": "rV0Z6J2e33sy"
      }
    },
    {
      "cell_type": "code",
      "source": [
        "response = ec2_cliente.describe_instances()\n",
        "\n",
        "for reservation in response['Reservations']:\n",
        "    for instance in reservation['Instances']:\n",
        "        print(f\"Instância ID: {instance['InstanceId']} - Estado: {instance['State']['Name']}\")\n"
      ],
      "metadata": {
        "colab": {
          "base_uri": "https://localhost:8080/"
        },
        "id": "kJSzNZsC3ZUv",
        "outputId": "ddb567de-12a3-42a8-d096-e50c7fe917cf"
      },
      "execution_count": null,
      "outputs": [
        {
          "output_type": "stream",
          "name": "stdout",
          "text": [
            "Instância ID: i-05e6d2cd77d392354 - Estado: running\n"
          ]
        }
      ]
    },
    {
      "cell_type": "markdown",
      "source": [
        "**3. Parando uma Instância EC2**\n",
        "\n",
        "Para parar uma instância em execução:"
      ],
      "metadata": {
        "id": "NPe6h8Th39Yb"
      }
    },
    {
      "cell_type": "code",
      "source": [
        "response = ec2_cliente.stop_instances(InstanceIds=[instancia_id])\n",
        "print(f\"Instância EC2 '{instancia_id}' sendo parada.\")\n"
      ],
      "metadata": {
        "colab": {
          "base_uri": "https://localhost:8080/"
        },
        "id": "GCbAh2_M367t",
        "outputId": "dfb30378-9085-4340-d518-370f3843bbfc"
      },
      "execution_count": null,
      "outputs": [
        {
          "output_type": "stream",
          "name": "stdout",
          "text": [
            "Instância EC2 'i-05e6d2cd77d392354' sendo parada.\n"
          ]
        }
      ]
    },
    {
      "cell_type": "markdown",
      "source": [
        "**4. Iniciando uma Instância EC2**\n",
        "\n",
        "Caso a instância esteja parada, você pode reiniciá-la:"
      ],
      "metadata": {
        "id": "uTHQruus4DV-"
      }
    },
    {
      "cell_type": "code",
      "source": [
        "response = ec2_cliente.start_instances(InstanceIds=[instancia_id])\n",
        "print(f\"Instância EC2 '{instancia_id}' sendo iniciada.\")"
      ],
      "metadata": {
        "id": "dhJLnHYV4Abg"
      },
      "execution_count": null,
      "outputs": []
    },
    {
      "cell_type": "markdown",
      "source": [
        "**5. Excluindo (Terminando) uma Instância EC2**\n",
        "\n",
        "Quando você não precisa mais de uma instância, pode encerrá-la para evitar custos adicionais:"
      ],
      "metadata": {
        "id": "0exDI7mx4QeW"
      }
    },
    {
      "cell_type": "code",
      "source": [
        "response = ec2_cliente.terminate_instances(InstanceIds=[instancia_id])\n",
        "print(f\"Instância EC2 '{instancia_id}' sendo terminada.\")"
      ],
      "metadata": {
        "colab": {
          "base_uri": "https://localhost:8080/"
        },
        "id": "UxZ_zW0x4HZT",
        "outputId": "82daab5b-35db-4719-e77a-c39df09790e5"
      },
      "execution_count": null,
      "outputs": [
        {
          "output_type": "stream",
          "name": "stdout",
          "text": [
            "Instância EC2 'i-05e6d2cd77d392354' sendo terminada.\n"
          ]
        }
      ]
    },
    {
      "cell_type": "markdown",
      "source": [
        "Maiores informações : https://aws.amazon.com/pt/ec2/"
      ],
      "metadata": {
        "id": "vL8Q0b3e5gGv"
      }
    },
    {
      "cell_type": "code",
      "source": [],
      "metadata": {
        "id": "_vo0cLe85hUe"
      },
      "execution_count": null,
      "outputs": []
    }
  ]
}