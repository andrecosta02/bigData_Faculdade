{
  "nbformat": 4,
  "nbformat_minor": 0,
  "metadata": {
    "colab": {
      "provenance": []
    },
    "kernelspec": {
      "name": "python3",
      "display_name": "Python 3"
    },
    "language_info": {
      "name": "python"
    }
  },
  "cells": [
    {
      "cell_type": "markdown",
      "source": [
        "# **Map Reduce**\n",
        "\n",
        "## **O que é ?**\n",
        "O MapReduce é um modelo de programação distribuída que divide uma tarefa em pequenas sub-tarefas, distribuindo essas sub-tarefas por várias máquinas em um cluster. Cada máquina processa a sua sub-tarefa e retorna os resultados ao sistema, que os combina para formar o resultado final.\n",
        "\n",
        "O modelo é composto por duas etapas: Map e Reduce.\n",
        "\n",
        "## **Etapa de Map**\n",
        "\n",
        " Inicialmente, os dados de entrada são divididos em blocos menores. O framework Hadoop então determina quantos mappers serão usados, com base no tamanho dos dados a serem processados e na capacidade de memória disponível em cada servidor de mapeamento. Cada bloco é atribuído a um mapeador para processamento. Cada nó de trabalho (worker) aplica a função de mapeamento aos dados locais e grava a saída em um armazenamento temporário. O nó principal (master) garante que apenas uma cópia dos dados redundantes de entrada seja processada.\n",
        "\n",
        "## **Etapa de Reduce**\n",
        "\n",
        "Um reducer não pode iniciar enquanto um mapper ainda está em execução. Os nós de trabalho processam cada grupo de pares de dados <chave, valor> de saída, em paralelo, para gerar novos pares <chave, valor> como resultado. Todos os valores de saída do map que possuem a mesma chave são atribuídos a um único reducer, que então agrega os valores para essa chave. Diferente da função map, que é obrigatória para filtrar e organizar os dados iniciais, a função reduce é opcional.\n",
        "\n",
        "## **Implementação Prática do MapReduce com Python**\n",
        "Vamos implementar um exemplo de MapReduce em Python para contar a frequência de palavras em um texto. Neste exemplo, o Map irá separar as palavras e o Reduce irá somar as ocorrências de cada palavra.\n",
        "\n",
        "\n",
        "## **Explicação do Código**\n",
        "**Dados de entrada**: A lista data contém linhas de texto para processamento.\n",
        "Função Map (map_function): Recebe cada linha, divide em palavras e retorna uma lista de pares (palavra, 1).\n",
        "\n",
        "\n",
        "**Função Reduce (reduce_function)**: Recebe a lista de pares (palavra, 1) e usa um dicionário para contar quantas vezes cada palavra aparece.\n",
        "\n",
        "\n",
        "**Pipeline MapReduce**: Primeiro, a função map_function é aplicada a cada linha. Em seguida, os pares de chave-valor resultantes são agregados pela função reduce_function."
      ],
      "metadata": {
        "id": "oR_rw93uRCt-"
      }
    },
    {
      "cell_type": "code",
      "execution_count": null,
      "metadata": {
        "id": "7UP2_1JLQ7kp"
      },
      "outputs": [],
      "source": [
        "from collections import defaultdict\n",
        "\n",
        "# Dados de entrada: um texto simples\n",
        "data = [\n",
        "    \"MapReduce é um modelo de programação\",\n",
        "    \"MapReduce permite o processamento de grandes volumes de dados\",\n",
        "    \"Python pode ser usado para implementar MapReduce\",\n",
        "    \"MapReduce é eficiente para Big Data\",\n",
        "    \"MapReduce é legal\",\n",
        "    \"MapReduce é muito legal\",\n",
        "    \"MapReduce é muito muito legal\",\n",
        "    \"Esfiha é legal mas não é paralela\"\n",
        "]\n",
        "\n",
        "# Função Map: Recebe uma linha e retorna pares (palavra, 1)\n",
        "def map_function(line):\n",
        "    words = line.split()\n",
        "    return [(word.lower(), 1) for word in words]\n",
        "\n",
        "# Função Reduce: Recebe uma lista de (chave, [valores]) e retorna (chave, soma dos valores)\n",
        "def reduce_function(mapped_data):\n",
        "    reduced_data = defaultdict(int)\n",
        "    for word, count in mapped_data:\n",
        "        reduced_data[word] += count\n",
        "    return reduced_data\n",
        "\n",
        "# Pipeline MapReduce\n",
        "\n",
        "# Passo 1: Aplicar a função map a cada linha do texto\n",
        "mapped_data = []\n",
        "for line in data:\n",
        "    mapped_data.extend(map_function(line))\n",
        "\n",
        "# Passo 2: Aplicar a função reduce para agregar os valores por chave\n",
        "word_counts = reduce_function(mapped_data)\n",
        "\n",
        "# Exibir o resultado\n",
        "print(\"Contagem de palavras:\")\n",
        "for word, count in word_counts.items():\n",
        "    print(f\"{word}: {count}\")"
      ]
    },
    {
      "cell_type": "markdown",
      "source": [
        "# **Parquet**\n",
        "\n",
        "O Parquet é um tipo de arquivo criado para armazenar informações de maneira eficaz e compacta, sendo particularmente vantajoso para lidar com grandes quantidades de dados. Desenvolvido inicialmente pela Apache, ele foi concebido para ambientes de Big Data e se diferencia pelo armazenamento em formato de colunas, facilitando a leitura rápida de colunas específicas. Esse formato é amplamente adotado em ferramentas de processamento de dados como Apache Spark, Hive e outras baseadas em Hadoop, além de ser compatível com o Pandas no Python."
      ],
      "metadata": {
        "id": "BcCb3uNkjTDB"
      }
    },
    {
      "cell_type": "code",
      "source": [
        "#Instalando nossas dependências\n",
        "!pip install pandas pyarrow pyspark"
      ],
      "metadata": {
        "id": "2D0oAWkph2gy",
        "colab": {
          "base_uri": "https://localhost:8080/"
        },
        "outputId": "abc4bf45-58d6-4dbd-b193-51197aebae19"
      },
      "execution_count": 1,
      "outputs": [
        {
          "output_type": "stream",
          "name": "stdout",
          "text": [
            "Requirement already satisfied: pandas in /usr/local/lib/python3.10/dist-packages (2.2.2)\n",
            "Requirement already satisfied: pyarrow in /usr/local/lib/python3.10/dist-packages (16.1.0)\n",
            "Requirement already satisfied: pyspark in /usr/local/lib/python3.10/dist-packages (3.5.3)\n",
            "Requirement already satisfied: numpy>=1.22.4 in /usr/local/lib/python3.10/dist-packages (from pandas) (1.26.4)\n",
            "Requirement already satisfied: python-dateutil>=2.8.2 in /usr/local/lib/python3.10/dist-packages (from pandas) (2.8.2)\n",
            "Requirement already satisfied: pytz>=2020.1 in /usr/local/lib/python3.10/dist-packages (from pandas) (2024.2)\n",
            "Requirement already satisfied: tzdata>=2022.7 in /usr/local/lib/python3.10/dist-packages (from pandas) (2024.2)\n",
            "Requirement already satisfied: py4j==0.10.9.7 in /usr/local/lib/python3.10/dist-packages (from pyspark) (0.10.9.7)\n",
            "Requirement already satisfied: six>=1.5 in /usr/local/lib/python3.10/dist-packages (from python-dateutil>=2.8.2->pandas) (1.16.0)\n"
          ]
        }
      ]
    },
    {
      "cell_type": "code",
      "source": [
        "import kagglehub\n",
        "\n",
        "path = kagglehub.dataset_download(\"dhruvildave/spotify-charts\")\n",
        "\n",
        "print(\"Path local:\", path)\n",
        "\n",
        "# Listar todos os arquivos dentro do repositório\n",
        "\n",
        "import os\n",
        "\n",
        "for dirname, _, filenames in os.walk(path):\n",
        "    for filename in filenames:\n",
        "        print(os.path.join(dirname, filename))\n",
        "\n"
      ],
      "metadata": {
        "colab": {
          "base_uri": "https://localhost:8080/"
        },
        "id": "KQVy-WLWlVpF",
        "outputId": "9649d3c3-d1b7-48bc-f29c-9187d83707c1"
      },
      "execution_count": null,
      "outputs": [
        {
          "output_type": "stream",
          "name": "stdout",
          "text": [
            "Downloading from https://www.kaggle.com/api/v1/datasets/download/dhruvildave/spotify-charts?dataset_version_number=85...\n"
          ]
        },
        {
          "output_type": "stream",
          "name": "stderr",
          "text": [
            "100%|██████████| 945M/945M [00:10<00:00, 92.4MB/s]"
          ]
        },
        {
          "output_type": "stream",
          "name": "stdout",
          "text": [
            "Extracting files...\n"
          ]
        },
        {
          "output_type": "stream",
          "name": "stderr",
          "text": [
            "\n"
          ]
        },
        {
          "output_type": "stream",
          "name": "stdout",
          "text": [
            "Path local: /root/.cache/kagglehub/datasets/dhruvildave/spotify-charts/versions/85\n",
            "/root/.cache/kagglehub/datasets/dhruvildave/spotify-charts/versions/85/charts.csv\n"
          ]
        }
      ]
    },
    {
      "cell_type": "code",
      "source": [
        "# lendo o arquivo charts.csv e convertendo em um arquivo parquet com o nome charts.parquet\n",
        "\n",
        "import pandas as pd\n",
        "# lendo o arquivo em csv\n",
        "df = pd.read_csv(path + \"/charts.csv\")\n",
        "\n",
        "# salvando o arquivo em csv\n",
        "df.to_parquet(path + \"/charts.parquet\")"
      ],
      "metadata": {
        "id": "aEoqJSrdm1Dn"
      },
      "execution_count": null,
      "outputs": []
    },
    {
      "cell_type": "code",
      "source": [
        "\n",
        "# Carregar arquivo Parquet\n",
        "df = pd.read_parquet(path + \"/charts.parquet\")\n",
        "print(df.head())\n",
        "\n"
      ],
      "metadata": {
        "colab": {
          "base_uri": "https://localhost:8080/"
        },
        "collapsed": true,
        "id": "e7XsIO91kg9O",
        "outputId": "69dfcf14-846f-4d62-a17c-f97814efb5f2"
      },
      "execution_count": null,
      "outputs": [
        {
          "output_type": "stream",
          "name": "stdout",
          "text": [
            "                         title  rank        date  \\\n",
            "0      Chantaje (feat. Maluma)     1  2017-01-01   \n",
            "1  Vente Pa' Ca (feat. Maluma)     2  2017-01-01   \n",
            "2   Reggaetón Lento (Bailemos)     3  2017-01-01   \n",
            "3                       Safari     4  2017-01-01   \n",
            "4                  Shaky Shaky     5  2017-01-01   \n",
            "\n",
            "                                  artist  \\\n",
            "0                                Shakira   \n",
            "1                           Ricky Martin   \n",
            "2                                   CNCO   \n",
            "3  J Balvin, Pharrell Williams, BIA, Sky   \n",
            "4                           Daddy Yankee   \n",
            "\n",
            "                                                 url     region   chart  \\\n",
            "0  https://open.spotify.com/track/6mICuAdrwEjh6Y6...  Argentina  top200   \n",
            "1  https://open.spotify.com/track/7DM4BPaS7uofFul...  Argentina  top200   \n",
            "2  https://open.spotify.com/track/3AEZUABDXNtecAO...  Argentina  top200   \n",
            "3  https://open.spotify.com/track/6rQSrBHf7HlZjtc...  Argentina  top200   \n",
            "4  https://open.spotify.com/track/58IL315gMSTD37D...  Argentina  top200   \n",
            "\n",
            "           trend   streams  \n",
            "0  SAME_POSITION  253019.0  \n",
            "1        MOVE_UP  223988.0  \n",
            "2      MOVE_DOWN  210943.0  \n",
            "3  SAME_POSITION  173865.0  \n",
            "4        MOVE_UP  153956.0  \n"
          ]
        }
      ]
    },
    {
      "cell_type": "code",
      "source": [
        "# Primeiras linhas do DataFrame\n",
        "print(df.head(5))\n",
        "\n",
        "# Informações sobre o DataFrame\n",
        "print(df.info())\n",
        "\n",
        "# Estatísticas descritivas\n",
        "print(df.describe())\n"
      ],
      "metadata": {
        "colab": {
          "base_uri": "https://localhost:8080/"
        },
        "collapsed": true,
        "id": "0JTpt7OCnvKp",
        "outputId": "2fb47247-ea4d-4323-b90b-336b24ea485e"
      },
      "execution_count": null,
      "outputs": [
        {
          "output_type": "stream",
          "name": "stdout",
          "text": [
            "                         title  rank        date  \\\n",
            "0      Chantaje (feat. Maluma)     1  2017-01-01   \n",
            "1  Vente Pa' Ca (feat. Maluma)     2  2017-01-01   \n",
            "2   Reggaetón Lento (Bailemos)     3  2017-01-01   \n",
            "3                       Safari     4  2017-01-01   \n",
            "4                  Shaky Shaky     5  2017-01-01   \n",
            "\n",
            "                                  artist  \\\n",
            "0                                Shakira   \n",
            "1                           Ricky Martin   \n",
            "2                                   CNCO   \n",
            "3  J Balvin, Pharrell Williams, BIA, Sky   \n",
            "4                           Daddy Yankee   \n",
            "\n",
            "                                                 url     region   chart  \\\n",
            "0  https://open.spotify.com/track/6mICuAdrwEjh6Y6...  Argentina  top200   \n",
            "1  https://open.spotify.com/track/7DM4BPaS7uofFul...  Argentina  top200   \n",
            "2  https://open.spotify.com/track/3AEZUABDXNtecAO...  Argentina  top200   \n",
            "3  https://open.spotify.com/track/6rQSrBHf7HlZjtc...  Argentina  top200   \n",
            "4  https://open.spotify.com/track/58IL315gMSTD37D...  Argentina  top200   \n",
            "\n",
            "           trend   streams  \n",
            "0  SAME_POSITION  253019.0  \n",
            "1        MOVE_UP  223988.0  \n",
            "2      MOVE_DOWN  210943.0  \n",
            "3  SAME_POSITION  173865.0  \n",
            "4        MOVE_UP  153956.0  \n",
            "<class 'pandas.core.frame.DataFrame'>\n",
            "RangeIndex: 26173514 entries, 0 to 26173513\n",
            "Data columns (total 9 columns):\n",
            " #   Column   Dtype  \n",
            "---  ------   -----  \n",
            " 0   title    object \n",
            " 1   rank     int64  \n",
            " 2   date     object \n",
            " 3   artist   object \n",
            " 4   url      object \n",
            " 5   region   object \n",
            " 6   chart    object \n",
            " 7   trend    object \n",
            " 8   streams  float64\n",
            "dtypes: float64(1), int64(1), object(7)\n",
            "memory usage: 1.8+ GB\n",
            "None\n",
            "               rank       streams\n",
            "count  2.617351e+07  2.032190e+07\n",
            "mean   8.092314e+01  5.526131e+04\n",
            "std    5.918601e+01  2.095872e+05\n",
            "min    1.000000e+00  1.001000e+03\n",
            "25%    2.900000e+01  3.546000e+03\n",
            "50%    6.700000e+01  9.565000e+03\n",
            "75%    1.310000e+02  3.540900e+04\n",
            "max    2.000000e+02  1.974970e+07\n"
          ]
        }
      ]
    },
    {
      "cell_type": "code",
      "source": [
        "# Filtrar músicas com mais de 200000.0 streams na region Brazil\n",
        "high_streams_brazil = df[(df['region'] == 'Brazil') & (df['streams'] > 200000.0)]\n",
        "print(high_streams_brazil)"
      ],
      "metadata": {
        "colab": {
          "base_uri": "https://localhost:8080/"
        },
        "collapsed": true,
        "id": "gWknG35FoT4o",
        "outputId": "ea32312b-8b85-4e53-bc62-90507f7c6dca"
      },
      "execution_count": null,
      "outputs": [
        {
          "output_type": "stream",
          "name": "stdout",
          "text": [
            "                                       title  rank        date  \\\n",
            "869                                 Deu Onda     1  2017-01-01   \n",
            "870                              Hear Me Now     2  2017-01-01   \n",
            "871                            10% - Ao Vivo     3  2017-01-01   \n",
            "872       Eu Sei de Cor - Ao Vivo | Acústico     4  2017-01-01   \n",
            "873             Meu Coração Deu PT - Ao Vivo     5  2017-01-01   \n",
            "...                                      ...   ...         ...   \n",
            "25197428                             Pesadão    23  2018-01-31   \n",
            "25197429                       Troféu do Ano    24  2018-01-31   \n",
            "25197430                          Ta Tum Tum    25  2018-01-31   \n",
            "25197431                          Dona Maria    26  2018-01-31   \n",
            "25197432                        Azul Piscina    27  2018-01-31   \n",
            "\n",
            "                                        artist  \\\n",
            "869                                     MC G15   \n",
            "870                 Alok, Bruno Martini, Zeeba   \n",
            "871                           Maiara & Maraisa   \n",
            "872                           Marília Mendonça   \n",
            "873            Wesley Safadão, Matheus & Kauan   \n",
            "...                                        ...   \n",
            "25197428                   IZA, Marcelo Falcão   \n",
            "25197429  Jerry Smith, Mc Nando Dk, DJ Cassula   \n",
            "25197430          MC Kevinho, Simone & Simaria   \n",
            "25197431                   Thiago Brava, Jorge   \n",
            "25197432                            Mc Livinho   \n",
            "\n",
            "                                                        url  region   chart  \\\n",
            "869       https://open.spotify.com/track/0EPxmvsG1BY5td4...  Brazil  top200   \n",
            "870       https://open.spotify.com/track/1a5Yu5L18qNxVhX...  Brazil  top200   \n",
            "871       https://open.spotify.com/track/2wFnRPjuqwNySFi...  Brazil  top200   \n",
            "872       https://open.spotify.com/track/45wqPwIH4A5cr2I...  Brazil  top200   \n",
            "873       https://open.spotify.com/track/6zCqeUUqLb2CapB...  Brazil  top200   \n",
            "...                                                     ...     ...     ...   \n",
            "25197428  https://open.spotify.com/track/1BkyiAw1L0BOHYc...  Brazil  top200   \n",
            "25197429  https://open.spotify.com/track/7CtFr21TzdM4ntu...  Brazil  top200   \n",
            "25197430  https://open.spotify.com/track/42TXKY5AaAn4dzA...  Brazil  top200   \n",
            "25197431  https://open.spotify.com/track/0dGqIEsFN3KakdP...  Brazil  top200   \n",
            "25197432  https://open.spotify.com/track/7ieFtgZBYSC94nG...  Brazil  top200   \n",
            "\n",
            "                  trend   streams  \n",
            "869       SAME_POSITION  612271.0  \n",
            "870       SAME_POSITION  269574.0  \n",
            "871             MOVE_UP  228307.0  \n",
            "872           MOVE_DOWN  217394.0  \n",
            "873             MOVE_UP  214171.0  \n",
            "...                 ...       ...  \n",
            "25197428      MOVE_DOWN  208088.0  \n",
            "25197429  SAME_POSITION  203412.0  \n",
            "25197430        MOVE_UP  202700.0  \n",
            "25197431      MOVE_DOWN  201143.0  \n",
            "25197432      MOVE_DOWN  200275.0  \n",
            "\n",
            "[74716 rows x 9 columns]\n"
          ]
        }
      ]
    },
    {
      "cell_type": "code",
      "source": [
        "# Filtrar músicas com tendência de subida\n",
        "trending_up = df[df['trend'] == 'MOVE_UP']\n",
        "print(trending_up)"
      ],
      "metadata": {
        "id": "U6LOuzvZpqIR"
      },
      "execution_count": null,
      "outputs": []
    },
    {
      "cell_type": "code",
      "source": [
        "# Ordenar por streams em ordem decrescente\n",
        "df_sorted = df.sort_values(by='streams', ascending=False)\n",
        "print(df_sorted)"
      ],
      "metadata": {
        "colab": {
          "base_uri": "https://localhost:8080/"
        },
        "collapsed": true,
        "id": "KgeISSTGp_Ef",
        "outputId": "21782385-e7e1-42e1-f315-4aca7347f956"
      },
      "execution_count": null,
      "outputs": [
        {
          "output_type": "stream",
          "name": "stdout",
          "text": [
            "                                    title  rank        date  \\\n",
            "22999369                       Easy On Me     1  2021-10-15   \n",
            "17849245  All I Want for Christmas Is You     1  2020-12-24   \n",
            "17849246                   Last Christmas     2  2020-12-24   \n",
            "16687378                  drivers license     1  2021-01-15   \n",
            "16564161                  drivers license     1  2021-01-14   \n",
            "...                                   ...   ...         ...   \n",
            "26173509                              BYE    46  2021-07-31   \n",
            "26173510                          Pillars    47  2021-07-31   \n",
            "26173511                     Gái Độc Thân    48  2021-07-31   \n",
            "26173512    Renegade (feat. Taylor Swift)    49  2021-07-31   \n",
            "26173513                  Letter to Jarad    50  2021-07-31   \n",
            "\n",
            "                             artist  \\\n",
            "22999369                      Adele   \n",
            "17849245               Mariah Carey   \n",
            "17849246                      Wham!   \n",
            "16687378             Olivia Rodrigo   \n",
            "16564161             Olivia Rodrigo   \n",
            "...                             ...   \n",
            "26173509                      Jaden   \n",
            "26173510                     My Anh   \n",
            "26173511                      Tlinh   \n",
            "26173512            Big Red Machine   \n",
            "26173513  LRN Slime, Shiloh Dynasty   \n",
            "\n",
            "                                                        url   region    chart  \\\n",
            "22999369  https://open.spotify.com/track/0gplL1WMoJ6iYaP...   Global   top200   \n",
            "17849245  https://open.spotify.com/track/0bYg9bo50gSsH3L...   Global   top200   \n",
            "17849246  https://open.spotify.com/track/2FRnf9qhLbvw8fu...   Global   top200   \n",
            "16687378  https://open.spotify.com/track/7lPN2DXiMsVn7XU...   Global   top200   \n",
            "16564161  https://open.spotify.com/track/7lPN2DXiMsVn7XU...   Global   top200   \n",
            "...                                                     ...      ...      ...   \n",
            "26173509  https://open.spotify.com/track/3OUyyDN7EZrL7i0...  Vietnam  viral50   \n",
            "26173510  https://open.spotify.com/track/6eky30oFiQbHUAT...  Vietnam  viral50   \n",
            "26173511  https://open.spotify.com/track/2klsSb2iTfgDh95...  Vietnam  viral50   \n",
            "26173512  https://open.spotify.com/track/1aU1wpYBSpP0M6I...  Vietnam  viral50   \n",
            "26173513  https://open.spotify.com/track/508QhA2SncMbh5C...  Vietnam  viral50   \n",
            "\n",
            "                  trend     streams  \n",
            "22999369        MOVE_UP  19749704.0  \n",
            "17849245  SAME_POSITION  17223237.0  \n",
            "17849246  SAME_POSITION  15813799.0  \n",
            "16687378  SAME_POSITION  13714177.0  \n",
            "16564161  SAME_POSITION  13701177.0  \n",
            "...                 ...         ...  \n",
            "26173509        MOVE_UP         NaN  \n",
            "26173510      NEW_ENTRY         NaN  \n",
            "26173511      MOVE_DOWN         NaN  \n",
            "26173512      MOVE_DOWN         NaN  \n",
            "26173513      MOVE_DOWN         NaN  \n",
            "\n",
            "[26173514 rows x 9 columns]\n"
          ]
        }
      ]
    },
    {
      "cell_type": "code",
      "source": [
        "# Média de streams por região\n",
        "mean_streams = df.groupby('region')['streams'].mean()\n",
        "print(mean_streams)"
      ],
      "metadata": {
        "id": "DKwNBACVqJNp"
      },
      "execution_count": null,
      "outputs": []
    },
    {
      "cell_type": "code",
      "source": [
        "# Converter para datetime\n",
        "df['date'] = pd.to_datetime(df['date'])\n",
        "\n",
        "# Filtrar por data específica\n",
        "specific_date = df[df['date'] == '2021-12-31']\n",
        "print(specific_date)"
      ],
      "metadata": {
        "collapsed": true,
        "id": "evwX0vxeqOCX"
      },
      "execution_count": null,
      "outputs": []
    },
    {
      "cell_type": "code",
      "source": [
        "# Categorizar o sucesso da música\n",
        "df['success'] = df['streams'].apply(lambda x: 'High' if x > 90000 else 'Moderate')\n",
        "print(df[['title', 'streams', 'success']])"
      ],
      "metadata": {
        "id": "k9ZLUjqAqd8U"
      },
      "execution_count": null,
      "outputs": []
    },
    {
      "cell_type": "code",
      "source": [
        "# Total de streams por artista\n",
        "total_streams_artist = df.groupby('artist')['streams'].sum()\n",
        "print(total_streams_artist)\n"
      ],
      "metadata": {
        "id": "Kf4mrghOqmTD"
      },
      "execution_count": null,
      "outputs": []
    },
    {
      "cell_type": "code",
      "source": [
        "del df\n",
        "del df_sorted"
      ],
      "metadata": {
        "id": "Gv-SCLJyqo6R"
      },
      "execution_count": null,
      "outputs": []
    },
    {
      "cell_type": "markdown",
      "source": [
        "## Exemplos com pyspark\n"
      ],
      "metadata": {
        "id": "SNf1yT_mrbIm"
      }
    },
    {
      "cell_type": "code",
      "source": [
        "from pyspark.sql import SparkSession\n",
        "from pyspark.sql.functions import col, to_date, when, avg, expr\n",
        "\n",
        "# Iniciar a sessão do Spark\n",
        "spark = SparkSession.builder.appName(\"SparkDataFrameExample\").getOrCreate()\n",
        "\n",
        "# Carregar arquivo Parquet\n",
        "df = spark.read.parquet(path + \"/charts.parquet\")\n",
        "\n",
        "# Exibir DataFrame\n",
        "df.show()"
      ],
      "metadata": {
        "colab": {
          "base_uri": "https://localhost:8080/"
        },
        "id": "ZXnnMkgyq1lv",
        "outputId": "3e4ee6d4-998b-476d-9c25-90f583f0da79"
      },
      "execution_count": null,
      "outputs": [
        {
          "output_type": "stream",
          "name": "stdout",
          "text": [
            "+--------------------+----+----------+--------------------+--------------------+---------+------+-------------+--------+\n",
            "|               title|rank|      date|              artist|                 url|   region| chart|        trend| streams|\n",
            "+--------------------+----+----------+--------------------+--------------------+---------+------+-------------+--------+\n",
            "|Chantaje (feat. M...|   1|2017-01-01|             Shakira|https://open.spot...|Argentina|top200|SAME_POSITION|253019.0|\n",
            "|Vente Pa' Ca (fea...|   2|2017-01-01|        Ricky Martin|https://open.spot...|Argentina|top200|      MOVE_UP|223988.0|\n",
            "|Reggaetón Lento (...|   3|2017-01-01|                CNCO|https://open.spot...|Argentina|top200|    MOVE_DOWN|210943.0|\n",
            "|              Safari|   4|2017-01-01|J Balvin, Pharrel...|https://open.spot...|Argentina|top200|SAME_POSITION|173865.0|\n",
            "|         Shaky Shaky|   5|2017-01-01|        Daddy Yankee|https://open.spot...|Argentina|top200|      MOVE_UP|153956.0|\n",
            "|         Traicionera|   6|2017-01-01|     Sebastian Yatra|https://open.spot...|Argentina|top200|    MOVE_DOWN|151140.0|\n",
            "|Cuando Se Pone a ...|   7|2017-01-01|              Rombai|https://open.spot...|Argentina|top200|    MOVE_DOWN|148369.0|\n",
            "|Otra vez (feat. J...|   8|2017-01-01|       Zion & Lennox|https://open.spot...|Argentina|top200|    MOVE_DOWN|143004.0|\n",
            "|        La Bicicleta|   9|2017-01-01|Carlos Vives, Sha...|https://open.spot...|Argentina|top200|      MOVE_UP|126389.0|\n",
            "|Dile Que Tu Me Qu...|  10|2017-01-01|               Ozuna|https://open.spot...|Argentina|top200|    MOVE_DOWN|112012.0|\n",
            "|  Andas En Mi Cabeza|  11|2017-01-01|Chino & Nacho, Da...|https://open.spot...|Argentina|top200|SAME_POSITION|110395.0|\n",
            "|Desde Esa Noche (...|  12|2017-01-01|              Thalia|https://open.spot...|Argentina|top200|      MOVE_UP|104592.0|\n",
            "|      Borro Cassette|  13|2017-01-01|              Maluma|https://open.spot...|Argentina|top200|      MOVE_UP|101535.0|\n",
            "|Gyal You A Party ...|  14|2017-01-01|Charly Black, Dad...|https://open.spot...|Argentina|top200|    MOVE_DOWN| 99722.0|\n",
            "|Me llamas (feat. ...|  15|2017-01-01|             Piso 21|https://open.spot...|Argentina|top200|    MOVE_DOWN| 95010.0|\n",
            "|La Bicicleta (fea...|  16|2017-01-01|Carlos Vives, Sha...|https://open.spot...|Argentina|top200|      MOVE_UP| 92723.0|\n",
            "|DUELE EL CORAZON ...|  17|2017-01-01|    Enrique Iglesias|https://open.spot...|Argentina|top200|      MOVE_UP| 91325.0|\n",
            "|     Let Me Love You|  18|2017-01-01|DJ Snake, Justin ...|https://open.spot...|Argentina|top200|    MOVE_DOWN| 87926.0|\n",
            "|La Noche No Es pa...|  19|2017-01-01|         Mano Arriba|https://open.spot...|Argentina|top200|SAME_POSITION| 87033.0|\n",
            "|          Vacaciones|  20|2017-01-01|               Wisin|https://open.spot...|Argentina|top200|    MOVE_DOWN| 86103.0|\n",
            "+--------------------+----+----------+--------------------+--------------------+---------+------+-------------+--------+\n",
            "only showing top 20 rows\n",
            "\n"
          ]
        }
      ]
    },
    {
      "cell_type": "code",
      "source": [
        "# Visualizar as primeiras linhas\n",
        "df.show(5)"
      ],
      "metadata": {
        "colab": {
          "base_uri": "https://localhost:8080/"
        },
        "id": "uZBpjEwWsJjT",
        "outputId": "ba5badbc-b995-4817-af25-63070d2f7a6a"
      },
      "execution_count": null,
      "outputs": [
        {
          "output_type": "stream",
          "name": "stdout",
          "text": [
            "+--------------------+----+----------+--------------------+--------------------+---------+------+-------------+--------+\n",
            "|               title|rank|      date|              artist|                 url|   region| chart|        trend| streams|\n",
            "+--------------------+----+----------+--------------------+--------------------+---------+------+-------------+--------+\n",
            "|Chantaje (feat. M...|   1|2017-01-01|             Shakira|https://open.spot...|Argentina|top200|SAME_POSITION|253019.0|\n",
            "|Vente Pa' Ca (fea...|   2|2017-01-01|        Ricky Martin|https://open.spot...|Argentina|top200|      MOVE_UP|223988.0|\n",
            "|Reggaetón Lento (...|   3|2017-01-01|                CNCO|https://open.spot...|Argentina|top200|    MOVE_DOWN|210943.0|\n",
            "|              Safari|   4|2017-01-01|J Balvin, Pharrel...|https://open.spot...|Argentina|top200|SAME_POSITION|173865.0|\n",
            "|         Shaky Shaky|   5|2017-01-01|        Daddy Yankee|https://open.spot...|Argentina|top200|      MOVE_UP|153956.0|\n",
            "+--------------------+----+----------+--------------------+--------------------+---------+------+-------------+--------+\n",
            "only showing top 5 rows\n",
            "\n"
          ]
        }
      ]
    },
    {
      "cell_type": "code",
      "source": [
        "# Verificar informações básicas (schema)\n",
        "df.printSchema()"
      ],
      "metadata": {
        "colab": {
          "base_uri": "https://localhost:8080/"
        },
        "id": "dfBN1LAqsRNJ",
        "outputId": "69df92b5-2d84-4361-ec05-a3e8c8e2fcba"
      },
      "execution_count": null,
      "outputs": [
        {
          "output_type": "stream",
          "name": "stdout",
          "text": [
            "root\n",
            " |-- title: string (nullable = true)\n",
            " |-- rank: long (nullable = true)\n",
            " |-- date: string (nullable = true)\n",
            " |-- artist: string (nullable = true)\n",
            " |-- url: string (nullable = true)\n",
            " |-- region: string (nullable = true)\n",
            " |-- chart: string (nullable = true)\n",
            " |-- trend: string (nullable = true)\n",
            " |-- streams: double (nullable = true)\n",
            "\n"
          ]
        }
      ]
    },
    {
      "cell_type": "code",
      "source": [
        "# Filtrar músicas com mais de 300.000 streams\n",
        "filtro_streams = df.filter(col(\"streams\") > 300000.0)\n",
        "filtro_streams.show()"
      ],
      "metadata": {
        "colab": {
          "base_uri": "https://localhost:8080/"
        },
        "id": "d0I3k0bqsaL9",
        "outputId": "ace49424-a299-4670-aa6f-73341ad78d05"
      },
      "execution_count": null,
      "outputs": [
        {
          "output_type": "stream",
          "name": "stdout",
          "text": [
            "+--------------------+----+----------+--------------------+--------------------+------+------+-------------+---------+\n",
            "|               title|rank|      date|              artist|                 url|region| chart|        trend|  streams|\n",
            "+--------------------+----+----------+--------------------+--------------------+------+------+-------------+---------+\n",
            "|            Deu Onda|   1|2017-01-01|              MC G15|https://open.spot...|Brazil|top200|SAME_POSITION| 612271.0|\n",
            "|             Starboy|   1|2017-01-01|The Weeknd, Daft ...|https://open.spot...|Global|top200|SAME_POSITION|3135625.0|\n",
            "|              Closer|   2|2017-01-01|The Chainsmokers,...|https://open.spot...|Global|top200|SAME_POSITION|3015525.0|\n",
            "|     Let Me Love You|   3|2017-01-01|DJ Snake, Justin ...|https://open.spot...|Global|top200|      MOVE_UP|2545384.0|\n",
            "|Rockabye (feat. S...|   4|2017-01-01|        Clean Bandit|https://open.spot...|Global|top200|    MOVE_DOWN|2356604.0|\n",
            "|           One Dance|   5|2017-01-01| Drake, WizKid, Kyla|https://open.spot...|Global|top200|SAME_POSITION|2259887.0|\n",
            "|           Fake Love|   6|2017-01-01|               Drake|https://open.spot...|Global|top200|      MOVE_UP|2137437.0|\n",
            "|           24K Magic|   7|2017-01-01|          Bruno Mars|https://open.spot...|Global|top200|SAME_POSITION|2111599.0|\n",
            "|    Don't Wanna Know|   8|2017-01-01|Maroon 5, Kendric...|https://open.spot...|Global|top200|    MOVE_DOWN|2107137.0|\n",
            "|       Black Beatles|   9|2017-01-01|Rae Sremmurd, Guc...|https://open.spot...|Global|top200|    MOVE_DOWN|2075732.0|\n",
            "|    I Feel It Coming|  10|2017-01-01|The Weeknd, Daft ...|https://open.spot...|Global|top200|    MOVE_DOWN|1949575.0|\n",
            "|Chantaje (feat. M...|  11|2017-01-01|             Shakira|https://open.spot...|Global|top200|      MOVE_UP|1893214.0|\n",
            "|I Don’t Wanna Liv...|  12|2017-01-01|  ZAYN, Taylor Swift|https://open.spot...|Global|top200|SAME_POSITION|1857252.0|\n",
            "|Say You Won't Let Go|  13|2017-01-01|        James Arthur|https://open.spot...|Global|top200|SAME_POSITION|1812335.0|\n",
            "|Bad and Boujee (f...|  14|2017-01-01|               Migos|https://open.spot...|Global|top200|      MOVE_UP|1801707.0|\n",
            "|Cold Water (feat....|  15|2017-01-01|         Major Lazer|https://open.spot...|Global|top200|    MOVE_DOWN|1731191.0|\n",
            "| In the Name of Love|  16|2017-01-01|Martin Garrix, Be...|https://open.spot...|Global|top200|SAME_POSITION|1647944.0|\n",
            "|        Side To Side|  17|2017-01-01|Ariana Grande, Ni...|https://open.spot...|Global|top200|      MOVE_UP|1527676.0|\n",
            "|Call On Me - Ryan...|  18|2017-01-01|             Starley|https://open.spot...|Global|top200|    MOVE_DOWN|1507320.0|\n",
            "|CAN'T STOP THE FE...|  19|2017-01-01|   Justin Timberlake|https://open.spot...|Global|top200|    MOVE_DOWN|1480601.0|\n",
            "+--------------------+----+----------+--------------------+--------------------+------+------+-------------+---------+\n",
            "only showing top 20 rows\n",
            "\n"
          ]
        }
      ]
    },
    {
      "cell_type": "code",
      "source": [
        "# selecionando colunas\n",
        "selecionadas = df.select(\"title\", \"artist\", \"streams\")\n",
        "selecionadas.show()\n"
      ],
      "metadata": {
        "colab": {
          "base_uri": "https://localhost:8080/"
        },
        "id": "mt4rAMSLshBs",
        "outputId": "e77f5f5d-ee29-4ddd-e598-dd26adee490f"
      },
      "execution_count": null,
      "outputs": [
        {
          "output_type": "stream",
          "name": "stdout",
          "text": [
            "+--------------------+--------------------+--------+\n",
            "|               title|              artist| streams|\n",
            "+--------------------+--------------------+--------+\n",
            "|Chantaje (feat. M...|             Shakira|253019.0|\n",
            "|Vente Pa' Ca (fea...|        Ricky Martin|223988.0|\n",
            "|Reggaetón Lento (...|                CNCO|210943.0|\n",
            "|              Safari|J Balvin, Pharrel...|173865.0|\n",
            "|         Shaky Shaky|        Daddy Yankee|153956.0|\n",
            "|         Traicionera|     Sebastian Yatra|151140.0|\n",
            "|Cuando Se Pone a ...|              Rombai|148369.0|\n",
            "|Otra vez (feat. J...|       Zion & Lennox|143004.0|\n",
            "|        La Bicicleta|Carlos Vives, Sha...|126389.0|\n",
            "|Dile Que Tu Me Qu...|               Ozuna|112012.0|\n",
            "|  Andas En Mi Cabeza|Chino & Nacho, Da...|110395.0|\n",
            "|Desde Esa Noche (...|              Thalia|104592.0|\n",
            "|      Borro Cassette|              Maluma|101535.0|\n",
            "|Gyal You A Party ...|Charly Black, Dad...| 99722.0|\n",
            "|Me llamas (feat. ...|             Piso 21| 95010.0|\n",
            "|La Bicicleta (fea...|Carlos Vives, Sha...| 92723.0|\n",
            "|DUELE EL CORAZON ...|    Enrique Iglesias| 91325.0|\n",
            "|     Let Me Love You|DJ Snake, Justin ...| 87926.0|\n",
            "|La Noche No Es pa...|         Mano Arriba| 87033.0|\n",
            "|          Vacaciones|               Wisin| 86103.0|\n",
            "+--------------------+--------------------+--------+\n",
            "only showing top 20 rows\n",
            "\n"
          ]
        }
      ]
    },
    {
      "cell_type": "code",
      "source": [
        "# Agrupar por Região e Calcular a Média de Streams\n",
        "media_streams_regiao = df.groupBy(\"region\").agg(avg(\"streams\").alias(\"avg_streams\"))\n",
        "media_streams_regiao.show()\n"
      ],
      "metadata": {
        "colab": {
          "base_uri": "https://localhost:8080/"
        },
        "id": "agyMLGbVsnyS",
        "outputId": "ea550d93-6546-440b-bf6d-54ed29fdc882"
      },
      "execution_count": null,
      "outputs": [
        {
          "output_type": "stream",
          "name": "stdout",
          "text": [
            "+-------------+------------------+\n",
            "|       region|       avg_streams|\n",
            "+-------------+------------------+\n",
            "|     Paraguay| 6286.671493617753|\n",
            "|       Sweden| 41185.30777730343|\n",
            "|  Philippines| 52417.66259382237|\n",
            "|     Malaysia|11142.606986802088|\n",
            "|    Singapore|11038.974893132583|\n",
            "|       Turkey|  35253.5100812418|\n",
            "|      Germany|111789.55613780832|\n",
            "|       France| 66603.04668378024|\n",
            "|       Greece| 4483.041096571792|\n",
            "|       Taiwan|  9191.75591799814|\n",
            "|     Slovakia|2421.8039452345542|\n",
            "|    Argentina| 53607.62087352663|\n",
            "|      Belgium|10834.963612265967|\n",
            "|      Ecuador|  7489.96118409304|\n",
            "|      Finland|14077.958767923348|\n",
            "|    Nicaragua| 2065.814527933088|\n",
            "|         Peru|22018.889293711018|\n",
            "|       Global|1212937.9812387142|\n",
            "|United States| 390275.4827340026|\n",
            "|        India| 47458.82676758647|\n",
            "+-------------+------------------+\n",
            "only showing top 20 rows\n",
            "\n"
          ]
        }
      ]
    },
    {
      "cell_type": "code",
      "source": [
        "# Classificar o DataFrame por rank\n",
        "df_sorted = df.orderBy(\"rank\")\n",
        "df_sorted.show()\n"
      ],
      "metadata": {
        "colab": {
          "base_uri": "https://localhost:8080/"
        },
        "id": "aZ47ELz7s7Ql",
        "outputId": "70f8272b-f3cc-4baf-a333-e1928cd14141"
      },
      "execution_count": null,
      "outputs": [
        {
          "output_type": "stream",
          "name": "stdout",
          "text": [
            "+--------------------------------+----+----------+--------------------+--------------------+--------------------+-------+-------------+---------+\n",
            "|                           title|rank|      date|              artist|                 url|              region|  chart|        trend|  streams|\n",
            "+--------------------------------+----+----------+--------------------+--------------------+--------------------+-------+-------------+---------+\n",
            "|                    Dance Monkey|   1|2020-01-17|         Tones And I|https://open.spot...|        Saudi Arabia| top200|SAME_POSITION|  24362.0|\n",
            "|                 drivers license|   1|2021-01-29|      Olivia Rodrigo|https://open.spot...|           Singapore| top200|SAME_POSITION|  70914.0|\n",
            "|                       Your Song|   1|2017-06-01|            Rita Ora|https://open.spot...|           Lithuania|viral50|SAME_POSITION|     NULL|\n",
            "|                    Blaues Licht|   1|2021-07-28|RAF Camora, Bonez MC|https://open.spot...|             Germany| top200|SAME_POSITION| 788689.0|\n",
            "|                          Closer|   1|2017-01-01|The Chainsmokers,...|https://open.spot...|      Czech Republic| top200|SAME_POSITION|   6406.0|\n",
            "|                 drivers license|   1|2021-01-29|      Olivia Rodrigo|https://open.spot...|            Slovakia| top200|SAME_POSITION|  10587.0|\n",
            "|            STAY (with Justin...|   1|2021-08-22|       The Kid LAROI|https://open.spot...|       United States| top200|SAME_POSITION|1824958.0|\n",
            "|                  Last Christmas|   1|2020-12-24|               Wham!|https://open.spot...|             Denmark| top200|SAME_POSITION| 286787.0|\n",
            "|                    Dance Monkey|   1|2019-10-31|         Tones And I|https://open.spot...|      Czech Republic| top200|SAME_POSITION|  30646.0|\n",
            "|            Моя голова винтом...|   1|2021-02-07|           kostromin|https://open.spot...|             Ukraine| top200|      MOVE_UP|  12821.0|\n",
            "|                 Strip That Down|   1|2017-06-01|   Liam Payne, Quavo|https://open.spot...|          Luxembourg|viral50|SAME_POSITION|     NULL|\n",
            "|                 drivers license|   1|2021-03-06|      Olivia Rodrigo|https://open.spot...|         New Zealand| top200|      MOVE_UP|  39310.0|\n",
            "|                      God's Plan|   1|2018-03-01|               Drake|https://open.spot...|              Greece| top200|SAME_POSITION|   8654.0|\n",
            "|                 drivers license|   1|2021-02-07|      Olivia Rodrigo|https://open.spot...|United Arab Emirates| top200|SAME_POSITION|  11342.0|\n",
            "|            Met Gala (feat. O...|   1|2017-06-01|          Gucci Mane|https://open.spot...|              Greece|viral50|      MOVE_UP|     NULL|\n",
            "|            Thezz (feat. Smallx)|   1|2021-03-06|        ElGrandeToto|https://open.spot...|             Morocco| top200|SAME_POSITION| 103577.0|\n",
            "|                   Unforgettable|   1|2017-08-04|French Montana, S...|https://open.spot...|       United States| top200|SAME_POSITION|1223919.0|\n",
            "|                 drivers license|   1|2021-01-29|      Olivia Rodrigo|https://open.spot...|        South Africa| top200|SAME_POSITION|  18273.0|\n",
            "|陪著你走 - 劇集 \"不懂撒嬌的女...|   1|2017-06-01|           Kayee Tam|https://open.spot...|            Malaysia|viral50|SAME_POSITION|     NULL|\n",
            "|    刻在我心底的名字 (Your Na...|   1|2021-02-07|            Crowd Lu|https://open.spot...|              Taiwan| top200|SAME_POSITION|  53596.0|\n",
            "+--------------------------------+----+----------+--------------------+--------------------+--------------------+-------+-------------+---------+\n",
            "only showing top 20 rows\n",
            "\n"
          ]
        }
      ]
    },
    {
      "cell_type": "code",
      "source": [
        "# Adicionar uma Coluna Calculada para Taxa de Crescimento de Streams\n",
        "# Para calcular a taxa de crescimento entre as linhas, usaremos uma função de janela (Window) para acessar o valor dos streams da linha anterior.\n",
        "\n",
        "from pyspark.sql.window import Window\n",
        "from pyspark.sql.functions import lag\n",
        "\n",
        "\n",
        "# Definir uma janela ordenada por rank\n",
        "window_spec = Window.orderBy(\"rank\")\n",
        "\n",
        "# Usar `lag` para obter o valor dos streams da linha anterior\n",
        "df = df.withColumn(\"previous_streams\", lag(\"streams\").over(window_spec))\n",
        "\n",
        "# Calcular a taxa de crescimento\n",
        "df = df.withColumn(\"growth_rate\", expr(\"((streams - previous_streams) / previous_streams) * 100\"))\n",
        "df = df.fillna({\"growth_rate\": 0})  # Substituir valores nulos por 0 para crescimento inicial\n",
        "\n",
        "# Exibir o DataFrame atualizado com a taxa de crescimento\n",
        "df.select(\"title\", \"streams\", \"previous_streams\", \"growth_rate\").show()"
      ],
      "metadata": {
        "colab": {
          "base_uri": "https://localhost:8080/"
        },
        "id": "EgQewkkds_iT",
        "outputId": "d46e4c66-58ee-430e-f060-057ab58e9245"
      },
      "execution_count": null,
      "outputs": [
        {
          "output_type": "stream",
          "name": "stdout",
          "text": [
            "+--------------------+--------+----------------+-----------+\n",
            "|               title| streams|previous_streams|growth_rate|\n",
            "+--------------------+--------+----------------+-----------+\n",
            "|Chantaje (feat. M...|253019.0|            NULL|        0.0|\n",
            "|               Pepas|    NULL|        253019.0|        0.0|\n",
            "|             Starboy|107350.0|            NULL|        0.0|\n",
            "|            Di Di Di|    NULL|        107350.0|        0.0|\n",
            "|               Alone| 12990.0|            NULL|        0.0|\n",
            "|        Life Goes On|    NULL|         12990.0|        0.0|\n",
            "|            Hey Baby| 23277.0|            NULL|        0.0|\n",
            "|              Pierre|    NULL|         23277.0|        0.0|\n",
            "|Reggaetón Lento (...|  6784.0|            NULL|        0.0|\n",
            "|         Hadal Ahbek|    NULL|          6784.0|        0.0|\n",
            "|            Deu Onda|612271.0|            NULL|        0.0|\n",
            "|         Hadal Ahbek|    NULL|        612271.0|        0.0|\n",
            "|             Starboy|  1628.0|            NULL|        0.0|\n",
            "|          うっせぇわ|    NULL|          1628.0|        0.0|\n",
            "|             Starboy|139175.0|            NULL|        0.0|\n",
            "|             Violent|    NULL|        139175.0|        0.0|\n",
            "|Chantaje (feat. M...|136652.0|            NULL|        0.0|\n",
            "|             Streets|    NULL|        136652.0|        0.0|\n",
            "|Otra vez (feat. J...| 38341.0|            NULL|        0.0|\n",
            "|     Get It Together|    NULL|         38341.0|        0.0|\n",
            "+--------------------+--------+----------------+-----------+\n",
            "only showing top 20 rows\n",
            "\n"
          ]
        }
      ]
    },
    {
      "cell_type": "code",
      "source": [
        "# Converter a Coluna trend em Valores Numéricos\n",
        "# Podemos converter os valores da coluna trend (up, down, stable) em valores numéricos para facilitar a análise (ex.: up = 1, down = -1, stable = 0).\n",
        "\n",
        "# Usar `when` para mapear valores de texto para números\n",
        "df = df.withColumn(\n",
        "    \"trend_num\",\n",
        "    when(col(\"trend\") == \"up\", 1)\n",
        "    .when(col(\"trend\") == \"down\", -1)\n",
        "    .when(col(\"trend\") == \"stable\", 0)\n",
        "    .otherwise(None)\n",
        ")\n",
        "\n",
        "# Exibir o DataFrame com a nova coluna `trend_num`\n",
        "df.select(\"title\", \"trend\", \"trend_num\").show()\n",
        "\n"
      ],
      "metadata": {
        "colab": {
          "base_uri": "https://localhost:8080/"
        },
        "id": "jT6-lX1stZ7Q",
        "outputId": "8163fcb6-10fd-4ed3-c1f4-d7dd05776056"
      },
      "execution_count": null,
      "outputs": [
        {
          "output_type": "stream",
          "name": "stdout",
          "text": [
            "+--------------------+-------------+---------+\n",
            "|               title|        trend|trend_num|\n",
            "+--------------------+-------------+---------+\n",
            "|Chantaje (feat. M...|SAME_POSITION|     NULL|\n",
            "|Vente Pa' Ca (fea...|      MOVE_UP|     NULL|\n",
            "|Reggaetón Lento (...|    MOVE_DOWN|     NULL|\n",
            "|              Safari|SAME_POSITION|     NULL|\n",
            "|         Shaky Shaky|      MOVE_UP|     NULL|\n",
            "|         Traicionera|    MOVE_DOWN|     NULL|\n",
            "|Cuando Se Pone a ...|    MOVE_DOWN|     NULL|\n",
            "|Otra vez (feat. J...|    MOVE_DOWN|     NULL|\n",
            "|        La Bicicleta|      MOVE_UP|     NULL|\n",
            "|Dile Que Tu Me Qu...|    MOVE_DOWN|     NULL|\n",
            "|  Andas En Mi Cabeza|SAME_POSITION|     NULL|\n",
            "|Desde Esa Noche (...|      MOVE_UP|     NULL|\n",
            "|      Borro Cassette|      MOVE_UP|     NULL|\n",
            "|Gyal You A Party ...|    MOVE_DOWN|     NULL|\n",
            "|Me llamas (feat. ...|    MOVE_DOWN|     NULL|\n",
            "|La Bicicleta (fea...|      MOVE_UP|     NULL|\n",
            "|DUELE EL CORAZON ...|      MOVE_UP|     NULL|\n",
            "|     Let Me Love You|    MOVE_DOWN|     NULL|\n",
            "|La Noche No Es pa...|SAME_POSITION|     NULL|\n",
            "|          Vacaciones|    MOVE_DOWN|     NULL|\n",
            "+--------------------+-------------+---------+\n",
            "only showing top 20 rows\n",
            "\n"
          ]
        }
      ]
    },
    {
      "cell_type": "markdown",
      "source": [
        "## Operações com Spark SQL"
      ],
      "metadata": {
        "id": "EbdNnbF7uEIz"
      }
    },
    {
      "cell_type": "code",
      "source": [
        "# Registrar a tabela temporária\n",
        "df.createOrReplaceTempView(\"music_data\")\n"
      ],
      "metadata": {
        "id": "_hi1aoRjuBF9"
      },
      "execution_count": null,
      "outputs": []
    },
    {
      "cell_type": "code",
      "source": [
        "#Consulta SQL para calcular a média de streams por região\n",
        "\n",
        "media_streams_regiao_sql = spark.sql(\"\"\"\n",
        "    SELECT region, AVG(streams) as avg_streams\n",
        "    FROM music_data\n",
        "    GROUP BY region\n",
        "\"\"\")\n",
        "media_streams_regiao_sql.show()"
      ],
      "metadata": {
        "colab": {
          "base_uri": "https://localhost:8080/"
        },
        "id": "SnL6ltiJuI97",
        "outputId": "a90228ee-90e2-45bf-eca4-85ddb3fd9fa7"
      },
      "execution_count": null,
      "outputs": [
        {
          "output_type": "stream",
          "name": "stdout",
          "text": [
            "+-------------+------------------+\n",
            "|       region|       avg_streams|\n",
            "+-------------+------------------+\n",
            "|     Paraguay| 6286.671493617753|\n",
            "|       Sweden| 41185.30777730343|\n",
            "|  Philippines| 52417.66259382237|\n",
            "|     Malaysia|11142.606986802088|\n",
            "|    Singapore|11038.974893132583|\n",
            "|       Turkey|  35253.5100812418|\n",
            "|      Germany|111789.55613780832|\n",
            "|       France| 66603.04668378024|\n",
            "|       Greece| 4483.041096571792|\n",
            "|       Taiwan|  9191.75591799814|\n",
            "|     Slovakia|2421.8039452345542|\n",
            "|    Argentina| 53607.62087352663|\n",
            "|      Belgium|10834.963612265967|\n",
            "|      Ecuador|  7489.96118409304|\n",
            "|      Finland|14077.958767923348|\n",
            "|    Nicaragua| 2065.814527933088|\n",
            "|         Peru|22018.889293711018|\n",
            "|       Global|1212937.9812387142|\n",
            "|United States| 390275.4827340026|\n",
            "|        India| 47458.82676758647|\n",
            "+-------------+------------------+\n",
            "only showing top 20 rows\n",
            "\n"
          ]
        }
      ]
    },
    {
      "cell_type": "code",
      "source": [
        "# Filtrar músicas com streams acima de 300.000 usando SQL\n",
        "\n",
        "filtro_streams_sql = spark.sql(\"\"\"\n",
        "    SELECT title, artist, streams\n",
        "    FROM music_data\n",
        "    WHERE streams > 300000\n",
        "\"\"\")\n",
        "filtro_streams_sql.show()\n"
      ],
      "metadata": {
        "colab": {
          "base_uri": "https://localhost:8080/"
        },
        "id": "fDbpUn5KuMyC",
        "outputId": "2e4d4813-5265-4118-ac23-1f071338053c"
      },
      "execution_count": null,
      "outputs": [
        {
          "output_type": "stream",
          "name": "stdout",
          "text": [
            "+--------------------+--------------------+---------+\n",
            "|               title|              artist|  streams|\n",
            "+--------------------+--------------------+---------+\n",
            "|            Deu Onda|              MC G15| 612271.0|\n",
            "|             Starboy|The Weeknd, Daft ...|3135625.0|\n",
            "|              Closer|The Chainsmokers,...|3015525.0|\n",
            "|     Let Me Love You|DJ Snake, Justin ...|2545384.0|\n",
            "|Rockabye (feat. S...|        Clean Bandit|2356604.0|\n",
            "|           One Dance| Drake, WizKid, Kyla|2259887.0|\n",
            "|           Fake Love|               Drake|2137437.0|\n",
            "|           24K Magic|          Bruno Mars|2111599.0|\n",
            "|    Don't Wanna Know|Maroon 5, Kendric...|2107137.0|\n",
            "|       Black Beatles|Rae Sremmurd, Guc...|2075732.0|\n",
            "|    I Feel It Coming|The Weeknd, Daft ...|1949575.0|\n",
            "|Chantaje (feat. M...|             Shakira|1893214.0|\n",
            "|I Don’t Wanna Liv...|  ZAYN, Taylor Swift|1857252.0|\n",
            "|Say You Won't Let Go|        James Arthur|1812335.0|\n",
            "|Bad and Boujee (f...|               Migos|1801707.0|\n",
            "|Cold Water (feat....|         Major Lazer|1731191.0|\n",
            "| In the Name of Love|Martin Garrix, Be...|1647944.0|\n",
            "|        Side To Side|Ariana Grande, Ni...|1527676.0|\n",
            "|Call On Me - Ryan...|             Starley|1507320.0|\n",
            "|CAN'T STOP THE FE...|   Justin Timberlake|1480601.0|\n",
            "+--------------------+--------------------+---------+\n",
            "only showing top 20 rows\n",
            "\n"
          ]
        }
      ]
    },
    {
      "cell_type": "code",
      "source": [
        "df.write.mode(\"overwrite\").parquet(path+\"/dados_musica_exercicio.parquet\")\n"
      ],
      "metadata": {
        "id": "KQF7UqVlud2c"
      },
      "execution_count": null,
      "outputs": []
    },
    {
      "cell_type": "markdown",
      "source": [
        "## Exercício 1: Filtragem Básica\n",
        "Questão: Carregue o DataFrame e filtre as músicas que têm mais de 200.000 streams e foram lançadas na região dos Estados Unidos (US). Exiba apenas as colunas title, streams, region e date."
      ],
      "metadata": {
        "id": "ev9OZnE5vJD_"
      }
    },
    {
      "cell_type": "code",
      "source": [
        "#Instalando nossas dependências\n",
        "!pip install pandas pyarrow pyspark\n",
        "\n",
        "import kagglehub\n",
        "\n",
        "path = kagglehub.dataset_download(\"dhruvildave/spotify-charts\")\n",
        "\n",
        "print(\"Path local:\", path)\n",
        "\n",
        "# Listar todos os arquivos dentro do repositório\n",
        "\n",
        "import os\n",
        "\n",
        "for dirname, _, filenames in os.walk(path):\n",
        "    for filename in filenames:\n",
        "        print(os.path.join(dirname, filename))"
      ],
      "metadata": {
        "id": "UwkbqMW1vIla",
        "colab": {
          "base_uri": "https://localhost:8080/"
        },
        "collapsed": true,
        "outputId": "c58982d3-6606-426f-a749-ac06c9867ff9"
      },
      "execution_count": 2,
      "outputs": [
        {
          "output_type": "stream",
          "name": "stdout",
          "text": [
            "Requirement already satisfied: pandas in /usr/local/lib/python3.10/dist-packages (2.2.2)\n",
            "Requirement already satisfied: pyarrow in /usr/local/lib/python3.10/dist-packages (16.1.0)\n",
            "Requirement already satisfied: pyspark in /usr/local/lib/python3.10/dist-packages (3.5.3)\n",
            "Requirement already satisfied: numpy>=1.22.4 in /usr/local/lib/python3.10/dist-packages (from pandas) (1.26.4)\n",
            "Requirement already satisfied: python-dateutil>=2.8.2 in /usr/local/lib/python3.10/dist-packages (from pandas) (2.8.2)\n",
            "Requirement already satisfied: pytz>=2020.1 in /usr/local/lib/python3.10/dist-packages (from pandas) (2024.2)\n",
            "Requirement already satisfied: tzdata>=2022.7 in /usr/local/lib/python3.10/dist-packages (from pandas) (2024.2)\n",
            "Requirement already satisfied: py4j==0.10.9.7 in /usr/local/lib/python3.10/dist-packages (from pyspark) (0.10.9.7)\n",
            "Requirement already satisfied: six>=1.5 in /usr/local/lib/python3.10/dist-packages (from python-dateutil>=2.8.2->pandas) (1.16.0)\n",
            "Downloading from https://www.kaggle.com/api/v1/datasets/download/dhruvildave/spotify-charts?dataset_version_number=85...\n"
          ]
        },
        {
          "output_type": "stream",
          "name": "stderr",
          "text": [
            "100%|██████████| 945M/945M [00:09<00:00, 110MB/s]"
          ]
        },
        {
          "output_type": "stream",
          "name": "stdout",
          "text": [
            "Extracting files...\n"
          ]
        },
        {
          "output_type": "stream",
          "name": "stderr",
          "text": [
            "\n"
          ]
        },
        {
          "output_type": "stream",
          "name": "stdout",
          "text": [
            "Path local: /root/.cache/kagglehub/datasets/dhruvildave/spotify-charts/versions/85\n",
            "/root/.cache/kagglehub/datasets/dhruvildave/spotify-charts/versions/85/charts.csv\n"
          ]
        }
      ]
    },
    {
      "cell_type": "code",
      "source": [
        "import pandas as pd\n",
        "# lendo o arquivo em csv\n",
        "df = pd.read_csv(path + \"/charts.csv\")"
      ],
      "metadata": {
        "id": "FKSMzlC0ko2k"
      },
      "execution_count": 3,
      "outputs": []
    },
    {
      "cell_type": "code",
      "source": [
        "print(df)"
      ],
      "metadata": {
        "colab": {
          "base_uri": "https://localhost:8080/"
        },
        "id": "Bae90wU_mupX",
        "outputId": "13b54a42-4405-4183-eb57-baaef2a2248e"
      },
      "execution_count": 11,
      "outputs": [
        {
          "output_type": "stream",
          "name": "stdout",
          "text": [
            "                                  title  rank        date  \\\n",
            "0               Chantaje (feat. Maluma)     1  2017-01-01   \n",
            "1           Vente Pa' Ca (feat. Maluma)     2  2017-01-01   \n",
            "2            Reggaetón Lento (Bailemos)     3  2017-01-01   \n",
            "3                                Safari     4  2017-01-01   \n",
            "4                           Shaky Shaky     5  2017-01-01   \n",
            "...                                 ...   ...         ...   \n",
            "26173509                            BYE    46  2021-07-31   \n",
            "26173510                        Pillars    47  2021-07-31   \n",
            "26173511                   Gái Độc Thân    48  2021-07-31   \n",
            "26173512  Renegade (feat. Taylor Swift)    49  2021-07-31   \n",
            "26173513                Letter to Jarad    50  2021-07-31   \n",
            "\n",
            "                                         artist  \\\n",
            "0                                       Shakira   \n",
            "1                                  Ricky Martin   \n",
            "2                                          CNCO   \n",
            "3         J Balvin, Pharrell Williams, BIA, Sky   \n",
            "4                                  Daddy Yankee   \n",
            "...                                         ...   \n",
            "26173509                                  Jaden   \n",
            "26173510                                 My Anh   \n",
            "26173511                                  Tlinh   \n",
            "26173512                        Big Red Machine   \n",
            "26173513              LRN Slime, Shiloh Dynasty   \n",
            "\n",
            "                                                        url     region  \\\n",
            "0         https://open.spotify.com/track/6mICuAdrwEjh6Y6...  Argentina   \n",
            "1         https://open.spotify.com/track/7DM4BPaS7uofFul...  Argentina   \n",
            "2         https://open.spotify.com/track/3AEZUABDXNtecAO...  Argentina   \n",
            "3         https://open.spotify.com/track/6rQSrBHf7HlZjtc...  Argentina   \n",
            "4         https://open.spotify.com/track/58IL315gMSTD37D...  Argentina   \n",
            "...                                                     ...        ...   \n",
            "26173509  https://open.spotify.com/track/3OUyyDN7EZrL7i0...    Vietnam   \n",
            "26173510  https://open.spotify.com/track/6eky30oFiQbHUAT...    Vietnam   \n",
            "26173511  https://open.spotify.com/track/2klsSb2iTfgDh95...    Vietnam   \n",
            "26173512  https://open.spotify.com/track/1aU1wpYBSpP0M6I...    Vietnam   \n",
            "26173513  https://open.spotify.com/track/508QhA2SncMbh5C...    Vietnam   \n",
            "\n",
            "            chart          trend   streams  \n",
            "0          top200  SAME_POSITION  253019.0  \n",
            "1          top200        MOVE_UP  223988.0  \n",
            "2          top200      MOVE_DOWN  210943.0  \n",
            "3          top200  SAME_POSITION  173865.0  \n",
            "4          top200        MOVE_UP  153956.0  \n",
            "...           ...            ...       ...  \n",
            "26173509  viral50        MOVE_UP       NaN  \n",
            "26173510  viral50      NEW_ENTRY       NaN  \n",
            "26173511  viral50      MOVE_DOWN       NaN  \n",
            "26173512  viral50      MOVE_DOWN       NaN  \n",
            "26173513  viral50      MOVE_DOWN       NaN  \n",
            "\n",
            "[26173514 rows x 9 columns]\n"
          ]
        }
      ]
    },
    {
      "cell_type": "code",
      "source": [
        "# Músicas com mais de 200.000 streams e lançadas na região dos Estados Unidos\n",
        "filtered_df = df[(df['streams'] > 200000) & (df['region'] == 'United States')]\n",
        "\n",
        "# Selecionando as colunas title, streams, region e date\n",
        "result = filtered_df[['title', 'streams', 'region', 'date']]\n",
        "\n",
        "print(result)"
      ],
      "metadata": {
        "colab": {
          "base_uri": "https://localhost:8080/"
        },
        "id": "xw-fWwHvlXdP",
        "outputId": "f848f0b6-b2e8-429a-c46d-2539b8677924"
      },
      "execution_count": 10,
      "outputs": [
        {
          "output_type": "stream",
          "name": "stdout",
          "text": [
            "                                        title    streams         region  \\\n",
            "8246      Bad and Boujee (feat. Lil Uzi Vert)  1371493.0  United States   \n",
            "8247                                Fake Love  1180074.0  United States   \n",
            "8248                                  Starboy  1064351.0  United States   \n",
            "8249                                   Closer  1010492.0  United States   \n",
            "8250                            Black Beatles   874289.0  United States   \n",
            "...                                       ...        ...            ...   \n",
            "25275866                         Money Longer   203232.0  United States   \n",
            "25275867                  Do I Make You Wanna   202213.0  United States   \n",
            "25275868                             Only One   200958.0  United States   \n",
            "25275869                     X (feat. Future)   200771.0  United States   \n",
            "25275870                           Poles 1469   200072.0  United States   \n",
            "\n",
            "                date  \n",
            "8246      2017-01-01  \n",
            "8247      2017-01-01  \n",
            "8248      2017-01-01  \n",
            "8249      2017-01-01  \n",
            "8250      2017-01-01  \n",
            "...              ...  \n",
            "25275866  2018-01-31  \n",
            "25275867  2018-01-31  \n",
            "25275868  2018-01-31  \n",
            "25275869  2018-01-31  \n",
            "25275870  2018-01-31  \n",
            "\n",
            "[340085 rows x 4 columns]\n"
          ]
        }
      ]
    },
    {
      "cell_type": "markdown",
      "source": [
        "## Exercício 2: Cálculo de Média de Streams\n",
        "Questão: Use uma consulta SQL para calcular a média de streams para cada chart e exiba o resultado."
      ],
      "metadata": {
        "id": "tCIo4fN9vQ5c"
      }
    },
    {
      "cell_type": "code",
      "source": [
        "from pyspark.sql import SparkSession\n",
        "from pyspark.sql.functions import col, to_date, when, avg, expr\n",
        "\n",
        "# Iniciar a sessão do Spark\n",
        "spark = SparkSession.builder.appName(\"SpotifyAnalysis\").getOrCreate()\n",
        "\n",
        "# salvando o arquivo em csv\n",
        "df.to_parquet(path + \"/charts.parquet\")\n",
        "\n",
        "# Carrega arquivo Parquet\n",
        "df = spark.read.parquet(path + \"/charts.parquet\")\n",
        "\n",
        "# Exibir DataFrame\n",
        "df.show()"
      ],
      "metadata": {
        "id": "UvmqpDOqunTL",
        "colab": {
          "base_uri": "https://localhost:8080/"
        },
        "collapsed": true,
        "outputId": "bbedd60e-fdf5-47a6-8205-2590f8c4a15a"
      },
      "execution_count": 16,
      "outputs": [
        {
          "output_type": "stream",
          "name": "stdout",
          "text": [
            "+--------------------+----+----------+--------------------+--------------------+---------+------+-------------+--------+\n",
            "|               title|rank|      date|              artist|                 url|   region| chart|        trend| streams|\n",
            "+--------------------+----+----------+--------------------+--------------------+---------+------+-------------+--------+\n",
            "|Chantaje (feat. M...|   1|2017-01-01|             Shakira|https://open.spot...|Argentina|top200|SAME_POSITION|253019.0|\n",
            "|Vente Pa' Ca (fea...|   2|2017-01-01|        Ricky Martin|https://open.spot...|Argentina|top200|      MOVE_UP|223988.0|\n",
            "|Reggaetón Lento (...|   3|2017-01-01|                CNCO|https://open.spot...|Argentina|top200|    MOVE_DOWN|210943.0|\n",
            "|              Safari|   4|2017-01-01|J Balvin, Pharrel...|https://open.spot...|Argentina|top200|SAME_POSITION|173865.0|\n",
            "|         Shaky Shaky|   5|2017-01-01|        Daddy Yankee|https://open.spot...|Argentina|top200|      MOVE_UP|153956.0|\n",
            "|         Traicionera|   6|2017-01-01|     Sebastian Yatra|https://open.spot...|Argentina|top200|    MOVE_DOWN|151140.0|\n",
            "|Cuando Se Pone a ...|   7|2017-01-01|              Rombai|https://open.spot...|Argentina|top200|    MOVE_DOWN|148369.0|\n",
            "|Otra vez (feat. J...|   8|2017-01-01|       Zion & Lennox|https://open.spot...|Argentina|top200|    MOVE_DOWN|143004.0|\n",
            "|        La Bicicleta|   9|2017-01-01|Carlos Vives, Sha...|https://open.spot...|Argentina|top200|      MOVE_UP|126389.0|\n",
            "|Dile Que Tu Me Qu...|  10|2017-01-01|               Ozuna|https://open.spot...|Argentina|top200|    MOVE_DOWN|112012.0|\n",
            "|  Andas En Mi Cabeza|  11|2017-01-01|Chino & Nacho, Da...|https://open.spot...|Argentina|top200|SAME_POSITION|110395.0|\n",
            "|Desde Esa Noche (...|  12|2017-01-01|              Thalia|https://open.spot...|Argentina|top200|      MOVE_UP|104592.0|\n",
            "|      Borro Cassette|  13|2017-01-01|              Maluma|https://open.spot...|Argentina|top200|      MOVE_UP|101535.0|\n",
            "|Gyal You A Party ...|  14|2017-01-01|Charly Black, Dad...|https://open.spot...|Argentina|top200|    MOVE_DOWN| 99722.0|\n",
            "|Me llamas (feat. ...|  15|2017-01-01|             Piso 21|https://open.spot...|Argentina|top200|    MOVE_DOWN| 95010.0|\n",
            "|La Bicicleta (fea...|  16|2017-01-01|Carlos Vives, Sha...|https://open.spot...|Argentina|top200|      MOVE_UP| 92723.0|\n",
            "|DUELE EL CORAZON ...|  17|2017-01-01|    Enrique Iglesias|https://open.spot...|Argentina|top200|      MOVE_UP| 91325.0|\n",
            "|     Let Me Love You|  18|2017-01-01|DJ Snake, Justin ...|https://open.spot...|Argentina|top200|    MOVE_DOWN| 87926.0|\n",
            "|La Noche No Es pa...|  19|2017-01-01|         Mano Arriba|https://open.spot...|Argentina|top200|SAME_POSITION| 87033.0|\n",
            "|          Vacaciones|  20|2017-01-01|               Wisin|https://open.spot...|Argentina|top200|    MOVE_DOWN| 86103.0|\n",
            "+--------------------+----+----------+--------------------+--------------------+---------+------+-------------+--------+\n",
            "only showing top 20 rows\n",
            "\n"
          ]
        }
      ]
    },
    {
      "cell_type": "code",
      "source": [
        "# Registrando o DataFrame como uma tabela temporária\n",
        "df.createOrReplaceTempView(\"spotify_charts\")\n",
        "\n",
        "result = spark.sql(\"\"\"\n",
        "    SELECT chart, AVG(streams) AS average_streams\n",
        "    FROM spotify_charts\n",
        "    GROUP BY chart\n",
        "\"\"\")\n",
        "\n",
        "result.show()"
      ],
      "metadata": {
        "colab": {
          "base_uri": "https://localhost:8080/"
        },
        "id": "sU3YYC6urCWK",
        "outputId": "436b280c-243a-4a3a-931d-5ba4d406562d"
      },
      "execution_count": 19,
      "outputs": [
        {
          "output_type": "stream",
          "name": "stdout",
          "text": [
            "+-------+------------------+\n",
            "|  chart|   average_streams|\n",
            "+-------+------------------+\n",
            "| top200|55261.314376595816|\n",
            "|viral50|              NULL|\n",
            "+-------+------------------+\n",
            "\n"
          ]
        }
      ]
    },
    {
      "cell_type": "markdown",
      "source": [
        "## Exercício 3: Adicionar uma Coluna de Taxa de Crescimento\n",
        "\n",
        "Questão: Adicione uma nova coluna chamada growth_rate, que calcula a taxa de crescimento dos streams em relação ao valor do stream da linha anterior, ordenando pela coluna rank. Exiba as colunas title, streams, previous_streams e growth_rate."
      ],
      "metadata": {
        "id": "hgqGQJvmvaLe"
      }
    },
    {
      "cell_type": "code",
      "source": [
        "df = pd.read_csv(path + \"/charts.csv\")\n",
        "\n",
        "# Ordena pelo rank para a taxa de crescimento fiqe em ordem crescente\n",
        "df = df.sort_values(by=\"rank\")\n",
        "\n",
        "# Adiciona coluna para o valor de streams da linha anterior\n",
        "df['previous_streams'] = df['streams'].shift(1)\n",
        "\n",
        "# Calcula taxa de crescimento e adiciona coluna growth_rate\n",
        "df['growth_rate'] = ((df['streams'] - df['previous_streams']) / df['previous_streams']) * 100\n",
        "\n",
        "result = df[['title', 'streams', 'previous_streams', 'growth_rate']]\n",
        "print(result)"
      ],
      "metadata": {
        "id": "H2dQojTHvcmY",
        "colab": {
          "base_uri": "https://localhost:8080/"
        },
        "outputId": "09176435-2bd9-4235-f0cc-4423f72188a2"
      },
      "execution_count": 21,
      "outputs": [
        {
          "output_type": "stream",
          "name": "stdout",
          "text": [
            "                            title    streams  previous_streams  growth_rate\n",
            "0         Chantaje (feat. Maluma)   253019.0               NaN          NaN\n",
            "21246267                 rockstar  6435371.0          253019.0  2443.433892\n",
            "21246467                 rockstar     8278.0         6435371.0   -99.871367\n",
            "3894220              Harmaa Rinne    63814.0            8278.0   670.886688\n",
            "3894168                       tmt     3588.0           63814.0   -94.377409\n",
            "...                           ...        ...               ...          ...\n",
            "20118628            Pa Mí - Remix     1706.0            2723.0   -37.348513\n",
            "21575634           Lovesick Girls     6620.0            1706.0   288.042204\n",
            "19309640               La Difícil     9705.0            6620.0    46.601208\n",
            "8373463                Be Alright     1910.0            9705.0   -80.319423\n",
            "24034550      Kya Mujhe Pyaar Hai    37783.0            1910.0  1878.167539\n",
            "\n",
            "[26173514 rows x 4 columns]\n"
          ]
        }
      ]
    },
    {
      "cell_type": "markdown",
      "source": [
        "## Exercício 4: Converter Coluna trend para Valores Numéricos\n",
        "\n",
        "Questão: Crie uma nova coluna chamada trend_num que mapeie os valores da coluna trend para números da seguinte forma: up = 1, down = -1, stable = 0. Exiba as colunas title, trend e trend_num."
      ],
      "metadata": {
        "id": "5JaMRfLOvhbU"
      }
    },
    {
      "cell_type": "code",
      "source": [
        "# Mapeamentos para a coluna trend\n",
        "trend_mapping = {\n",
        "    'MOVE_UP': 1,\n",
        "    'MOVE_DOWN': -1,\n",
        "    'SAME_POSITION': 0,\n",
        "    'NEW_ENTRY': 0 # Como não havia na descrição da atividade, deixei esse valor configurado como \"0\"\n",
        "}\n",
        "\n",
        "# Cria coluna trend_num, atribuindo o mapeamento a ela\n",
        "df['trend_num'] = df['trend'].map(trend_mapping)\n",
        "\n",
        "result = df[['title', 'trend', 'trend_num']]\n",
        "print(result)"
      ],
      "metadata": {
        "id": "0Mp__lFOvjc-",
        "colab": {
          "base_uri": "https://localhost:8080/"
        },
        "outputId": "68853acc-fd90-4ee7-91ce-ffcd029e62ed"
      },
      "execution_count": 23,
      "outputs": [
        {
          "output_type": "stream",
          "name": "stdout",
          "text": [
            "                            title          trend  trend_num\n",
            "0         Chantaje (feat. Maluma)  SAME_POSITION          0\n",
            "21246267                 rockstar  SAME_POSITION          0\n",
            "21246467                 rockstar  SAME_POSITION          0\n",
            "3894220              Harmaa Rinne        MOVE_UP          1\n",
            "3894168                       tmt  SAME_POSITION          0\n",
            "...                           ...            ...        ...\n",
            "20118628            Pa Mí - Remix      MOVE_DOWN         -1\n",
            "21575634           Lovesick Girls      NEW_ENTRY          0\n",
            "19309640               La Difícil      NEW_ENTRY          0\n",
            "8373463                Be Alright      NEW_ENTRY          0\n",
            "24034550      Kya Mujhe Pyaar Hai      MOVE_DOWN         -1\n",
            "\n",
            "[26173514 rows x 3 columns]\n"
          ]
        }
      ]
    },
    {
      "cell_type": "markdown",
      "source": [
        "## Exercício 5: Análise Temporal\n",
        "Questão: Filtre todas as músicas que foram lançadas em junho de 2021 e exiba as colunas title, date, e region."
      ],
      "metadata": {
        "id": "icYV_I7hv2DM"
      }
    },
    {
      "cell_type": "code",
      "source": [
        "# Converte a coluna date para datetime\n",
        "df['date'] = pd.to_datetime(df['date'])\n",
        "\n",
        "june_2021 = df[(df['date'].dt.year == 2021) & (df['date'].dt.month == 6)]\n",
        "\n",
        "result = june_2021[['title', 'date', 'region']]\n",
        "\n",
        "print(result)"
      ],
      "metadata": {
        "id": "Hl71Pm-Uv4HZ",
        "colab": {
          "base_uri": "https://localhost:8080/"
        },
        "outputId": "3d812569-6bdc-4c2a-ce11-7d960347b645"
      },
      "execution_count": 24,
      "outputs": [
        {
          "output_type": "stream",
          "name": "stdout",
          "text": [
            "                  title       date       region\n",
            "20884403         Butter 2021-06-28  South Korea\n",
            "20884603        Beggin' 2021-06-28       Latvia\n",
            "20884728  ZITTI E BUONI 2021-06-28    Lithuania\n",
            "20887102       Reckless 2021-06-28     Malaysia\n",
            "20887302     Todo De Ti 2021-06-28       Mexico\n",
            "...                 ...        ...          ...\n",
            "20816648     Todo De Ti 2021-06-27     Malaysia\n",
            "20818190       BOOKER T 2021-06-27     Paraguay\n",
            "20817989       Relación 2021-06-27       Panama\n",
            "20817452          34+35 2021-06-27  New Zealand\n",
            "20817789            Her 2021-06-27       Norway\n",
            "\n",
            "[501405 rows x 3 columns]\n"
          ]
        }
      ]
    },
    {
      "cell_type": "markdown",
      "source": [
        "## Exercício 6: Calcular a Média de Streams por Região usando Spark SQL\n",
        "\n",
        "Questão: Calcule a média de streams para cada region usando Spark SQL. Exiba o nome da região e a média de streams."
      ],
      "metadata": {
        "id": "mJtuSvbfv9YM"
      }
    },
    {
      "cell_type": "code",
      "source": [
        "# Consulta SQL\n",
        "result = spark.sql(\"\"\"\n",
        "    SELECT region, AVG(streams) AS average_streams\n",
        "    FROM spotify_charts\n",
        "    GROUP BY region\n",
        "\"\"\")\n",
        "\n",
        "result.show()"
      ],
      "metadata": {
        "id": "X-w5vL9Av-Mo",
        "colab": {
          "base_uri": "https://localhost:8080/"
        },
        "outputId": "46584998-3058-4acd-e871-69b23374821b"
      },
      "execution_count": 25,
      "outputs": [
        {
          "output_type": "stream",
          "name": "stdout",
          "text": [
            "+-------------+------------------+\n",
            "|       region|   average_streams|\n",
            "+-------------+------------------+\n",
            "|     Paraguay| 6286.671493617753|\n",
            "|       Sweden| 41185.30777730343|\n",
            "|  Philippines| 52417.66259382237|\n",
            "|     Malaysia|11142.606986802088|\n",
            "|    Singapore|11038.974893132583|\n",
            "|       Turkey|  35253.5100812418|\n",
            "|      Germany|111789.55613780832|\n",
            "|       France| 66603.04668378024|\n",
            "|       Greece| 4483.041096571792|\n",
            "|       Taiwan|  9191.75591799814|\n",
            "|     Slovakia|2421.8039452345542|\n",
            "|    Argentina| 53607.62087352663|\n",
            "|      Belgium|10834.963612265967|\n",
            "|      Ecuador|  7489.96118409304|\n",
            "|      Finland|14077.958767923348|\n",
            "|    Nicaragua| 2065.814527933088|\n",
            "|         Peru|22018.889293711018|\n",
            "|       Global|1212937.9812387142|\n",
            "|United States| 390275.4827340026|\n",
            "|        India| 47458.82676758647|\n",
            "+-------------+------------------+\n",
            "only showing top 20 rows\n",
            "\n"
          ]
        }
      ]
    },
    {
      "cell_type": "markdown",
      "source": [
        "## Exercício 7: Classificação por Rank\n",
        "\n",
        "Questão: Ordene o DataFrame pelo rank em ordem crescente e exiba as colunas rank, title, e streams."
      ],
      "metadata": {
        "id": "2i-dgtL-wB4l"
      }
    },
    {
      "cell_type": "code",
      "source": [
        "# Ordena o DataFrame pelo rank em ordem crescente\n",
        "sorted_df = df.sort_values(by=\"rank\")\n",
        "\n",
        "result = sorted_df[['rank', 'title', 'streams']]\n",
        "\n",
        "print(result)"
      ],
      "metadata": {
        "id": "1TnUD8riwCr_",
        "colab": {
          "base_uri": "https://localhost:8080/"
        },
        "outputId": "e9242f59-5835-42dc-d726-e9e2d52aeeb3"
      },
      "execution_count": 26,
      "outputs": [
        {
          "output_type": "stream",
          "name": "stdout",
          "text": [
            "          rank                     title   streams\n",
            "0            1   Chantaje (feat. Maluma)  253019.0\n",
            "11697793     1         Despacito - Remix  128069.0\n",
            "11072834     1  Look What You Made Me Do  626628.0\n",
            "11698064     1             Felices los 4  225075.0\n",
            "11698109     1         Despacito - Remix  698634.0\n",
            "...        ...                       ...       ...\n",
            "2710067    200               Drink About   25588.0\n",
            "11145832   200           E.L.E.P.H.A.N.T   18148.0\n",
            "10034663   200                candy.doll   13791.0\n",
            "11566993   200              Ya Me Enteré    9089.0\n",
            "24034550   200       Kya Mujhe Pyaar Hai   37783.0\n",
            "\n",
            "[26173514 rows x 3 columns]\n"
          ]
        }
      ]
    },
    {
      "cell_type": "markdown",
      "source": [
        "## Exercício 8: Contagem de Músicas por Tendência\n",
        "\n",
        "Questão: Use uma consulta SQL para contar quantas músicas há em cada tipo de trend (up, down, stable)."
      ],
      "metadata": {
        "id": "57myMwsLwGoF"
      }
    },
    {
      "cell_type": "code",
      "source": [
        "# Consulta SQL\n",
        "result = spark.sql(\"\"\"\n",
        "    SELECT trend, count(trend) AS count_trend\n",
        "    FROM spotify_charts\n",
        "    GROUP BY trend\n",
        "    ORDER BY trend\n",
        "\"\"\")\n",
        "\n",
        "result.show()"
      ],
      "metadata": {
        "id": "mz7q5phDwIJl",
        "colab": {
          "base_uri": "https://localhost:8080/"
        },
        "outputId": "cca62876-a55c-4ea1-f519-fe5fb95b18ee"
      },
      "execution_count": 28,
      "outputs": [
        {
          "output_type": "stream",
          "name": "stdout",
          "text": [
            "+-------------+-----------+\n",
            "|        trend|count_trend|\n",
            "+-------------+-----------+\n",
            "|    MOVE_DOWN|   11220434|\n",
            "|      MOVE_UP|    9801048|\n",
            "|    NEW_ENTRY|    1853640|\n",
            "|SAME_POSITION|    3298392|\n",
            "+-------------+-----------+\n",
            "\n"
          ]
        }
      ]
    }
  ]
}